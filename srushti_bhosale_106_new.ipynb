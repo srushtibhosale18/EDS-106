{
  "nbformat": 4,
  "nbformat_minor": 0,
  "metadata": {
    "colab": {
      "provenance": []
    },
    "kernelspec": {
      "name": "python3",
      "display_name": "Python 3"
    },
    "language_info": {
      "name": "python"
    }
  },
  "cells": [
    {
      "cell_type": "code",
      "execution_count": null,
      "metadata": {
        "colab": {
          "base_uri": "https://localhost:8080/"
        },
        "id": "8INX6BgGAqL7",
        "outputId": "25113b48-9518-4ee5-a0b6-a16603b614b0"
      },
      "outputs": [
        {
          "output_type": "stream",
          "name": "stdout",
          "text": [
            "(10, 20, 30, 'python', 15.71)\n",
            "(80.87, 21, 'durwa')\n"
          ]
        }
      ],
      "source": [
        " #tuple operations\n",
        "t1 = (10,20,30,\"python\",15.71)\n",
        "t2 =(80.87,21,\"durwa\")\n",
        "print(t1)\n",
        "print(t2)"
      ]
    },
    {
      "cell_type": "code",
      "source": [],
      "metadata": {
        "id": "eepvLq7fjfeX"
      },
      "execution_count": null,
      "outputs": []
    },
    {
      "cell_type": "code",
      "source": [],
      "metadata": {
        "id": "iCxvkott02KQ"
      },
      "execution_count": null,
      "outputs": []
    },
    {
      "cell_type": "code",
      "source": [],
      "metadata": {
        "id": "oyxAZnxVg9pI"
      },
      "execution_count": null,
      "outputs": []
    },
    {
      "cell_type": "code",
      "source": [],
      "metadata": {
        "id": "spsEV-HcNyP-"
      },
      "execution_count": null,
      "outputs": []
    },
    {
      "cell_type": "code",
      "source": [],
      "metadata": {
        "id": "WgDeXny-M5on"
      },
      "execution_count": null,
      "outputs": []
    },
    {
      "cell_type": "code",
      "source": [
        "print([t1])"
      ],
      "metadata": {
        "colab": {
          "base_uri": "https://localhost:8080/"
        },
        "id": "mVcMZYr3J1wS",
        "outputId": "d121b782-35db-4a38-9f90-de190b4f6e53"
      },
      "execution_count": null,
      "outputs": [
        {
          "output_type": "stream",
          "name": "stdout",
          "text": [
            "[(10, 20, 30, 'python', 15.71)]\n"
          ]
        }
      ]
    },
    {
      "cell_type": "code",
      "source": [
        "print(t1[-1])\n",
        "print(t2[-2])"
      ],
      "metadata": {
        "colab": {
          "base_uri": "https://localhost:8080/"
        },
        "id": "QEiqWv3eKACM",
        "outputId": "8bec9ac4-9ac5-4ede-c8e2-e3eaa6648766"
      },
      "execution_count": null,
      "outputs": [
        {
          "output_type": "stream",
          "name": "stdout",
          "text": [
            "15.71\n",
            "21\n"
          ]
        }
      ]
    },
    {
      "cell_type": "code",
      "source": [
        "for i in t1:\n",
        "  print(i)"
      ],
      "metadata": {
        "colab": {
          "base_uri": "https://localhost:8080/"
        },
        "id": "5SF4zrA3KLdz",
        "outputId": "9e382090-afbf-4067-fa53-d8ffd41c6bcd"
      },
      "execution_count": null,
      "outputs": [
        {
          "output_type": "stream",
          "name": "stdout",
          "text": [
            "10\n",
            "20\n",
            "30\n",
            "python\n",
            "15.71\n"
          ]
        }
      ]
    },
    {
      "cell_type": "code",
      "source": [
        "st1= t1[1:4]\n",
        "print(st1)"
      ],
      "metadata": {
        "colab": {
          "base_uri": "https://localhost:8080/"
        },
        "id": "JmUB53sWKfVD",
        "outputId": "ef889873-f7f4-4f73-87e2-907a1c5def80"
      },
      "execution_count": null,
      "outputs": [
        {
          "output_type": "stream",
          "name": "stdout",
          "text": [
            "(20, 30, 'python')\n"
          ]
        }
      ]
    },
    {
      "cell_type": "code",
      "source": [
        "str2=t1+(50,60)\n",
        "print(str2)\n"
      ],
      "metadata": {
        "colab": {
          "base_uri": "https://localhost:8080/"
        },
        "id": "KJiAHj_yKqSj",
        "outputId": "005a98c8-fd33-4f76-c468-b5c37599471e"
      },
      "execution_count": null,
      "outputs": [
        {
          "output_type": "stream",
          "name": "stdout",
          "text": [
            "(10, 20, 30, 'python', 15.71, 50, 60)\n"
          ]
        }
      ]
    },
    {
      "cell_type": "code",
      "source": [
        "str3=t1.__len__()\n",
        "print(str3)"
      ],
      "metadata": {
        "colab": {
          "base_uri": "https://localhost:8080/"
        },
        "id": "i831ixZDLKwY",
        "outputId": "3af8387a-99dd-4d19-a332-57db3f56c7f6"
      },
      "execution_count": null,
      "outputs": [
        {
          "output_type": "stream",
          "name": "stdout",
          "text": [
            "5\n"
          ]
        }
      ]
    },
    {
      "cell_type": "code",
      "source": [
        "print(10 in t1)\n",
        "print(10 not in t1)"
      ],
      "metadata": {
        "colab": {
          "base_uri": "https://localhost:8080/"
        },
        "id": "bs8YIecYLhJq",
        "outputId": "0e323a4b-a7a2-4bf4-869b-8c10377f86f8"
      },
      "execution_count": null,
      "outputs": [
        {
          "output_type": "stream",
          "name": "stdout",
          "text": [
            "True\n",
            "False\n"
          ]
        }
      ]
    },
    {
      "cell_type": "code",
      "source": [
        "t3=t1+t2\n",
        "print(t3)"
      ],
      "metadata": {
        "colab": {
          "base_uri": "https://localhost:8080/"
        },
        "id": "0iZCh6RzLvmX",
        "outputId": "6f215083-6c4f-4694-cea5-b7b900a4fb86"
      },
      "execution_count": null,
      "outputs": [
        {
          "output_type": "stream",
          "name": "stdout",
          "text": [
            "(10, 20, 30, 'python', 15.71, 80.87, 21, 'durwa')\n"
          ]
        }
      ]
    },
    {
      "cell_type": "code",
      "source": [
        "t4=t1*3\n",
        "print(t4)"
      ],
      "metadata": {
        "colab": {
          "base_uri": "https://localhost:8080/"
        },
        "id": "cRFMg71ML9Y9",
        "outputId": "8aa1ddb8-f25a-4ba9-ea00-48b97b05d99e"
      },
      "execution_count": null,
      "outputs": [
        {
          "output_type": "stream",
          "name": "stdout",
          "text": [
            "(10, 20, 30, 'python', 15.71, 10, 20, 30, 'python', 15.71, 10, 20, 30, 'python', 15.71)\n"
          ]
        }
      ]
    },
    {
      "cell_type": "code",
      "source": [
        "del t1"
      ],
      "metadata": {
        "id": "F8bm2ClpMFa9"
      },
      "execution_count": null,
      "outputs": []
    },
    {
      "cell_type": "code",
      "source": [
        "import pandas as pd\n",
        "df = pd.read_csv('/content/drive/MyDrive/Book1.csv')\n",
        "print(df.values.tolist())"
      ],
      "metadata": {
        "colab": {
          "base_uri": "https://localhost:8080/"
        },
        "id": "NkKrkJznNUmH",
        "outputId": "6c7ff3fa-8eaa-49ad-804b-7e43c3c5e5f6"
      },
      "execution_count": null,
      "outputs": [
        {
          "output_type": "stream",
          "name": "stdout",
          "text": [
            "[['ms1001', 'item1', 100, 75, 30, 4500], ['ms1002', 'item2', 150, 100, 75, 3675], ['ms1003', 'item3', 200, 150, 100, 4567], ['ms1004', 'item4', 250, 200, 125, 7654], ['ms1005', 'item5', 300, 250, 150, 9876], ['ms1006', 'item6', 350, 300, 175, 3456], ['ms1007', 'item7', 400, 350, 200, 2345], ['ms1008', 'item8', 450, 400, 225, 8708], ['ms1009', 'item9', 500, 450, 250, 2345], ['ms1010', 'item10', 550, 500, 300, 7886], ['ms1011', 'item11', 600, 550, 350, 5647], ['ms1012', 'item12', 650, 600, 400, 9876], ['ms1013', 'item13', 700, 650, 450, 2854], ['ms1014', 'item14', 750, 700, 500, 9735], ['ms1015', 'item15', 800, 750, 550, 5247], ['ms1016', 'item16', 850, 800, 600, 8765], ['ms1017', 'item17', 900, 850, 650, 9467], ['ms1018', 'item18', 950, 900, 700, 2745], ['ms1019', 'item19', 1000, 950, 750, 9476], ['ms1020', 'item20', 1050, 1000, 800, 7489]]\n"
          ]
        }
      ]
    },
    {
      "cell_type": "code",
      "source": [
        "t1 = (10,20,30,\"python\",15.71)\n",
        "t2 =(80.87,21,\"durwa\")\n",
        "del t1\n",
        "del t2"
      ],
      "metadata": {
        "id": "yvEtPFm5M-kC"
      },
      "execution_count": null,
      "outputs": []
    },
    {
      "cell_type": "code",
      "source": [
        "#dictionary operator\n",
        "dict1={\"ABC\":2742023,\"EDF\":89}\n",
        "print(dict1)\n",
        "print(dict1.keys())\n",
        "print(dict1.values())\n",
        "dict1.update({\"SEC\":8-9-2022})\n",
        "print(dict1)\n",
        "a=dict1.__len__()\n",
        "print(a)\n",
        "dict1.pop(\"SEC\")\n",
        "print(dict1)\n"
      ],
      "metadata": {
        "colab": {
          "base_uri": "https://localhost:8080/"
        },
        "id": "aT0DNA6P-gWI",
        "outputId": "5a2ed981-5393-456e-b8cb-65bec4afa15c"
      },
      "execution_count": null,
      "outputs": [
        {
          "output_type": "stream",
          "name": "stdout",
          "text": [
            "{'ABC': 2742023, 'EDF': 89}\n",
            "dict_keys(['ABC', 'EDF'])\n",
            "dict_values([2742023, 89])\n",
            "{'ABC': 2742023, 'EDF': 89, 'SEC': -2023}\n",
            "3\n",
            "{'ABC': 2742023, 'EDF': 89}\n"
          ]
        }
      ]
    },
    {
      "cell_type": "code",
      "source": [
        "#set theory\n",
        "s1={10,20,30}\n",
        "for i in s1:\n",
        "  print(s1)"
      ],
      "metadata": {
        "colab": {
          "base_uri": "https://localhost:8080/"
        },
        "id": "nlTmaCmZKqNt",
        "outputId": "f270c0c3-ff1d-45e8-b39e-36ef83b6f46e"
      },
      "execution_count": null,
      "outputs": [
        {
          "output_type": "stream",
          "name": "stdout",
          "text": [
            "{10, 20, 30}\n",
            "{10, 20, 30}\n",
            "{10, 20, 30}\n"
          ]
        }
      ]
    },
    {
      "cell_type": "code",
      "source": [
        " a = {10,20,30}\n",
        "print(a)"
      ],
      "metadata": {
        "colab": {
          "base_uri": "https://localhost:8080/"
        },
        "id": "kNpW1T1ELHZj",
        "outputId": "6c25b231-f1ce-4b1c-e608-dd51f3f6416a"
      },
      "execution_count": null,
      "outputs": [
        {
          "output_type": "stream",
          "name": "stdout",
          "text": [
            "{10, 20, 30}\n"
          ]
        }
      ]
    },
    {
      "cell_type": "code",
      "source": [
        "s1 = {10,20,30}\n",
        "for i in s1:\n",
        "  print(i)"
      ],
      "metadata": {
        "colab": {
          "base_uri": "https://localhost:8080/"
        },
        "id": "6-ECtLQtL35c",
        "outputId": "f160a6f2-59e3-4041-f7db-b5e5553e06f0"
      },
      "execution_count": null,
      "outputs": [
        {
          "output_type": "stream",
          "name": "stdout",
          "text": [
            "10\n",
            "20\n",
            "30\n"
          ]
        }
      ]
    },
    {
      "cell_type": "code",
      "source": [
        "s1 = {10,20,30}\n",
        "s1.add(5)\n",
        "print(s1)"
      ],
      "metadata": {
        "colab": {
          "base_uri": "https://localhost:8080/"
        },
        "id": "3JfD2_g7MGF_",
        "outputId": "5305176d-3be2-4109-caaa-58429225ef26"
      },
      "execution_count": null,
      "outputs": [
        {
          "output_type": "stream",
          "name": "stdout",
          "text": [
            "{10, 20, 5, 30}\n"
          ]
        }
      ]
    },
    {
      "cell_type": "code",
      "source": [
        "s1 = {10,20,30}\n",
        "s1.update((7,8,1))\n",
        "print(s1)"
      ],
      "metadata": {
        "colab": {
          "base_uri": "https://localhost:8080/"
        },
        "id": "9sebyEsRMWx1",
        "outputId": "3a0307af-3908-4b15-8ef5-32bb16619075"
      },
      "execution_count": null,
      "outputs": [
        {
          "output_type": "stream",
          "name": "stdout",
          "text": [
            "{1, 7, 8, 10, 20, 30}\n"
          ]
        }
      ]
    },
    {
      "cell_type": "code",
      "source": [
        "s1 = {10,20,30}\n",
        "s1.discard(2)\n",
        "print(s1)\n"
      ],
      "metadata": {
        "colab": {
          "base_uri": "https://localhost:8080/"
        },
        "id": "TjW69PA2MuMG",
        "outputId": "34ac66f1-e93f-41e1-b9af-5554d15d3b74"
      },
      "execution_count": null,
      "outputs": [
        {
          "output_type": "stream",
          "name": "stdout",
          "text": [
            "{10, 20, 30}\n"
          ]
        }
      ]
    },
    {
      "cell_type": "code",
      "source": [
        "t1={1,2,3,4,8}\n",
        "t2={5,6,7,8}\n",
        "c1= t1| t2\n",
        "print(c1)"
      ],
      "metadata": {
        "colab": {
          "base_uri": "https://localhost:8080/"
        },
        "id": "devh6ciXM__D",
        "outputId": "aa694a15-974a-4bdc-e572-125d0a5be5a5"
      },
      "execution_count": null,
      "outputs": [
        {
          "output_type": "stream",
          "name": "stdout",
          "text": [
            "{1, 2, 3, 4, 5, 6, 7, 8}\n"
          ]
        }
      ]
    },
    {
      "cell_type": "code",
      "source": [
        "i1=t1&t2\n",
        "print(i1)"
      ],
      "metadata": {
        "colab": {
          "base_uri": "https://localhost:8080/"
        },
        "id": "_Ihjs4DUNVF0",
        "outputId": "8abba173-7e4d-4db9-d4a7-e338d123b248"
      },
      "execution_count": null,
      "outputs": [
        {
          "output_type": "stream",
          "name": "stdout",
          "text": [
            "{8}\n"
          ]
        }
      ]
    },
    {
      "cell_type": "code",
      "source": [
        "i1=t1-t2\n",
        "print(i1)"
      ],
      "metadata": {
        "colab": {
          "base_uri": "https://localhost:8080/"
        },
        "id": "yepvjyXSNr4v",
        "outputId": "7c6f9ba4-3b7e-4dea-e1b7-700c500ba91f"
      },
      "execution_count": null,
      "outputs": [
        {
          "output_type": "stream",
          "name": "stdout",
          "text": [
            "{1, 2, 3, 4}\n"
          ]
        }
      ]
    },
    {
      "cell_type": "code",
      "source": [
        "t1={10,20,390,70,60,1,15,11,2003,12}\n",
        "t2={50,1,11,2003,60,70}\n",
        "t1=t1^t2\n",
        "print(i1)"
      ],
      "metadata": {
        "colab": {
          "base_uri": "https://localhost:8080/"
        },
        "id": "NaW2CUTeOLCq",
        "outputId": "039e530f-2a29-4c57-9a52-22e686f7698a"
      },
      "execution_count": null,
      "outputs": [
        {
          "output_type": "stream",
          "name": "stdout",
          "text": [
            "{1, 2, 3, 4}\n"
          ]
        }
      ]
    },
    {
      "cell_type": "code",
      "source": [
        "s1={10,20,30,40}\n",
        "s1.clear()\n",
        "print(s1)"
      ],
      "metadata": {
        "colab": {
          "base_uri": "https://localhost:8080/"
        },
        "id": "KEcyLvVaO3-f",
        "outputId": "752aaaf0-dc4a-4b7d-cdd3-85390f24b078"
      },
      "execution_count": null,
      "outputs": [
        {
          "output_type": "stream",
          "name": "stdout",
          "text": [
            "set()\n"
          ]
        }
      ]
    },
    {
      "cell_type": "code",
      "source": [
        " list1=[45,78,95,78,555,87]\n",
        " list2=[44,65,89,33,90,56]\n",
        " result=list1[1::2]\n",
        " print(result)"
      ],
      "metadata": {
        "id": "MkjL6x7wPMYd",
        "colab": {
          "base_uri": "https://localhost:8080/"
        },
        "outputId": "2428246f-95ea-419f-8386-97c22d1d3307"
      },
      "execution_count": null,
      "outputs": [
        {
          "output_type": "stream",
          "name": "stdout",
          "text": [
            "[78, 78, 87]\n"
          ]
        }
      ]
    },
    {
      "cell_type": "code",
      "source": [
        "#calculate todays date\n",
        "from datetime import date\n",
        "today=date.today()\n",
        "print(today)"
      ],
      "metadata": {
        "colab": {
          "base_uri": "https://localhost:8080/"
        },
        "id": "jidxeEgam1Z0",
        "outputId": "2f159d64-6133-46da-fcba-d0565e47624f"
      },
      "execution_count": null,
      "outputs": [
        {
          "output_type": "stream",
          "name": "stdout",
          "text": [
            "2023-05-02\n"
          ]
        }
      ]
    },
    {
      "cell_type": "code",
      "source": [
        "import datetime\n",
        "current_time=datetime.datetime.now()\n",
        "print(\"the attributs of now(are :\")\n",
        "print(\"the attributs of now()are : \")\n",
        "print(\"year: \",end = \"\")\n",
        "print(current_time.year)\n",
        "print(\"month:\",end=\"\")\n",
        "print(current_time.month)\n",
        "print(\"day:\",end=\"\")\n",
        "print(current_time.day)\n"
      ],
      "metadata": {
        "colab": {
          "base_uri": "https://localhost:8080/"
        },
        "id": "h1gGeF4hnT0D",
        "outputId": "be38fa96-30ea-42bf-9cdc-efc5063835d1"
      },
      "execution_count": null,
      "outputs": [
        {
          "output_type": "stream",
          "name": "stdout",
          "text": [
            "the attributs of now(are :\n",
            "the attributs of now()are : \n",
            "year: 2023\n",
            "month:5\n",
            "day:2\n"
          ]
        }
      ]
    },
    {
      "cell_type": "code",
      "source": [
        "from datetime import date\n",
        "def calculateAge(dob):\n",
        "    today=date.today()\n",
        "    age=today.year-dob.year-((today.month,today.day) <\n",
        "    (dob.month,dob.day))\n",
        "\n",
        "    return age\n",
        "\n",
        "print(calculateAge(date(2004,11,5)), \"years old\")\n",
        "\n"
      ],
      "metadata": {
        "colab": {
          "base_uri": "https://localhost:8080/"
        },
        "id": "WjZivMmAsZjS",
        "outputId": "7a42351b-c679-456c-82b7-84b0a0a12558"
      },
      "execution_count": null,
      "outputs": [
        {
          "output_type": "stream",
          "name": "stdout",
          "text": [
            "18 years old\n"
          ]
        }
      ]
    },
    {
      "cell_type": "code",
      "source": [
        "import pandas as pd\n",
        "def t(l):\n",
        "  return l * 10\n",
        "l=[1,2,3,4,5]\n",
        "df=pd.DataFrame(l)\n",
        "newdf = df.transform(t)\n",
        "print(newdf)"
      ],
      "metadata": {
        "colab": {
          "base_uri": "https://localhost:8080/"
        },
        "id": "teqyc3SJvGlL",
        "outputId": "d29339c8-8344-48e2-c92c-647ac8a01f2a"
      },
      "execution_count": null,
      "outputs": [
        {
          "output_type": "stream",
          "name": "stdout",
          "text": [
            "    0\n",
            "0  10\n",
            "1  20\n",
            "2  30\n",
            "3  40\n",
            "4  50\n"
          ]
        }
      ]
    },
    {
      "cell_type": "code",
      "source": [
        "df_person=pd.DataFrame([\n",
        "   ['person 1','melbourn','3024'],\n",
        "   ['person 2','sedney','3003'],\n",
        "   ['person 3','delhi','1000001'],\n",
        "   ['person 4','kolkata','34566'],\n",
        "   ['person 5','london','3764'],\n",
        "])"
      ],
      "metadata": {
        "id": "AbDnmsMdwVpw"
      },
      "execution_count": null,
      "outputs": []
    },
    {
      "cell_type": "code",
      "source": [
        "l1=[1,2,3,45,6,7,8,9,10]\n",
        "alt_list1=list[-1::-2]\n",
        "alt_list2=list[-2::-3]\n",
        "print(alt_list1)\n",
        "print(alt_list2)\n",
        "\n"
      ],
      "metadata": {
        "colab": {
          "base_uri": "https://localhost:8080/"
        },
        "id": "m609RaEpN0Yd",
        "outputId": "2adb2506-eca5-4d15-b5ed-c464cc2ab5af"
      },
      "execution_count": null,
      "outputs": [
        {
          "output_type": "stream",
          "name": "stdout",
          "text": [
            "list[slice(-1, None, -2)]\n",
            "list[slice(-2, None, -3)]\n"
          ]
        }
      ]
    },
    {
      "cell_type": "code",
      "source": [
        "import c1v\n",
        "file=open(\"\")\n",
        "data=list(csv.reader(file))\n",
        "data.sort()\n",
        "print(data)\n",
        "file.close()\n",
        "file1=open(\"\")\n",
        "data=list(csv.reader(file1))\n",
        "print(data1)\n",
        "#imerging two files\n",
        "data2[]\n",
        "for i inrange(len(data)):\n",
        "  data2.append(data[i]+data1[i])\n",
        "  print(data2)\n",
        "  print(data2[0])\n",
        "  data2.sort(key=lambda x:int(x[2]),reverse=true)\n",
        "   print(data2)\n",
        "   file2=open(\"\")\n",
        "   cw=csv.writer(file2)\n",
        "   cw.writerows(data2)\n",
        "   file.close()\n",
        "   file1.close()\n",
        "   file2.close()\n",
        "\n",
        "\n"
      ],
      "metadata": {
        "id": "1GtXzHsnVE8a"
      },
      "execution_count": null,
      "outputs": []
    },
    {
      "cell_type": "code",
      "source": [
        "a=30\n",
        "b=30\n",
        "if a==b:\n",
        "   print(\"a and b are equal\")\n",
        "\n",
        "else:\n",
        "   print(\"a and b are not equal\")\n"
      ],
      "metadata": {
        "colab": {
          "base_uri": "https://localhost:8080/"
        },
        "id": "VrkksO25hAff",
        "outputId": "cfeb0b2b-a65a-4124-a883-6eccd1dbffe5"
      },
      "execution_count": null,
      "outputs": [
        {
          "output_type": "stream",
          "name": "stdout",
          "text": [
            "a and b are equal\n"
          ]
        }
      ]
    },
    {
      "cell_type": "code",
      "source": [
        "a=10\n",
        "b=4\n",
        "if a!=b:\n",
        "\n",
        "   print(\"a print(\"a and b are not equal\")\n",
        "else:and b are equal\")\n",
        "\n",
        "\n",
        "\n"
      ],
      "metadata": {
        "id": "9ofslvEBie1g",
        "colab": {
          "base_uri": "https://localhost:8080/"
        },
        "outputId": "2e154ccd-577d-4464-9434-426be15d5330"
      },
      "execution_count": null,
      "outputs": [
        {
          "output_type": "stream",
          "name": "stdout",
          "text": [
            "a and b are not equal\n"
          ]
        }
      ]
    },
    {
      "cell_type": "code",
      "source": [
        "a=10\n",
        "b=4\n",
        "if a<b:\n",
        "   print(\"a is less than b\")\n",
        "\n",
        "else:\n",
        "   print(\"a geater than b\")\n",
        "\n"
      ],
      "metadata": {
        "colab": {
          "base_uri": "https://localhost:8080/"
        },
        "id": "j8eUfL4AkEtv",
        "outputId": "eeb15009-99c8-4b2b-a816-5e5e266655b4"
      },
      "execution_count": null,
      "outputs": [
        {
          "output_type": "stream",
          "name": "stdout",
          "text": [
            "a geater than b\n"
          ]
        }
      ]
    },
    {
      "cell_type": "code",
      "source": [
        "a=10\n",
        "b=4\n",
        "if a>b:\n",
        "   print(\"a is greater than b\")\n",
        "\n",
        "else:\n",
        "   print(\"b geater than a\")\n"
      ],
      "metadata": {
        "colab": {
          "base_uri": "https://localhost:8080/"
        },
        "id": "KQZcK3zwkvPn",
        "outputId": "1c3f93a6-b4f8-4135-9e73-f8cdfeea0729"
      },
      "execution_count": null,
      "outputs": [
        {
          "output_type": "stream",
          "name": "stdout",
          "text": [
            "a is greater than b\n"
          ]
        }
      ]
    },
    {
      "cell_type": "code",
      "source": [
        "a=10\n",
        "b=4\n",
        "if a<=b:\n",
        "   print(\"b is less than or equal to a\")\n",
        "\n",
        "else:\n",
        "   print(\"b geater than a\")\n"
      ],
      "metadata": {
        "colab": {
          "base_uri": "https://localhost:8080/"
        },
        "id": "Cu6T1O1Yk3Me",
        "outputId": "90bbf837-eba7-4f88-9119-2378febdf369"
      },
      "execution_count": null,
      "outputs": [
        {
          "output_type": "stream",
          "name": "stdout",
          "text": [
            "b geater than a\n"
          ]
        }
      ]
    },
    {
      "cell_type": "code",
      "source": [
        "a=10\n",
        "b=4\n",
        "if a>=b:\n",
        "   print(\"a is less than or equal to b\")\n",
        "\n",
        "else:\n",
        "   print(\"a geater than b\")\n"
      ],
      "metadata": {
        "colab": {
          "base_uri": "https://localhost:8080/"
        },
        "id": "mxhUEHjOlT4X",
        "outputId": "322ed6e6-1f87-4ee9-da0d-0c30c40c6b90"
      },
      "execution_count": null,
      "outputs": [
        {
          "output_type": "stream",
          "name": "stdout",
          "text": [
            "a is less than or equal to b\n"
          ]
        }
      ]
    },
    {
      "cell_type": "code",
      "source": [
        "a=6\n",
        "print(a)"
      ],
      "metadata": {
        "colab": {
          "base_uri": "https://localhost:8080/"
        },
        "id": "JyWe6_x0lbBf",
        "outputId": "b656ed81-7340-4eaf-9aba-2525ccbcac80"
      },
      "execution_count": null,
      "outputs": [
        {
          "output_type": "stream",
          "name": "stdout",
          "text": [
            "6\n"
          ]
        }
      ]
    },
    {
      "cell_type": "code",
      "source": [
        "a=6\n",
        "a+=3\n",
        "print(a)"
      ],
      "metadata": {
        "colab": {
          "base_uri": "https://localhost:8080/"
        },
        "id": "3nSV91Pwlmpv",
        "outputId": "74742ea3-0816-4a29-8f7f-fc8485f3c566"
      },
      "execution_count": null,
      "outputs": [
        {
          "output_type": "stream",
          "name": "stdout",
          "text": [
            "9\n"
          ]
        }
      ]
    },
    {
      "cell_type": "code",
      "source": [
        "a=6\n",
        "a-=3\n",
        "print(a)"
      ],
      "metadata": {
        "colab": {
          "base_uri": "https://localhost:8080/"
        },
        "id": "JPmFUJMll14n",
        "outputId": "03b79fef-6faf-40ae-dea9-4b0a2827275a"
      },
      "execution_count": null,
      "outputs": [
        {
          "output_type": "stream",
          "name": "stdout",
          "text": [
            "3\n"
          ]
        }
      ]
    },
    {
      "cell_type": "code",
      "source": [
        "a=6\n",
        "a*=3\n",
        "print(a)\n"
      ],
      "metadata": {
        "colab": {
          "base_uri": "https://localhost:8080/"
        },
        "id": "pnnaGF_TmCEe",
        "outputId": "77a398f8-d9a5-4e29-fc35-0e5629edf99a"
      },
      "execution_count": null,
      "outputs": [
        {
          "output_type": "stream",
          "name": "stdout",
          "text": [
            "18\n"
          ]
        }
      ]
    },
    {
      "cell_type": "code",
      "source": [
        "a=6\n",
        "a/=3\n",
        "print(a)"
      ],
      "metadata": {
        "colab": {
          "base_uri": "https://localhost:8080/"
        },
        "id": "HBx1JohimJ6X",
        "outputId": "c0ec9a7c-2fcd-4b86-e40a-3ef109cb40ad"
      },
      "execution_count": null,
      "outputs": [
        {
          "output_type": "stream",
          "name": "stdout",
          "text": [
            "2.0\n"
          ]
        }
      ]
    },
    {
      "cell_type": "code",
      "source": [
        "a=6\n",
        "a%=3\n",
        "print(a)"
      ],
      "metadata": {
        "colab": {
          "base_uri": "https://localhost:8080/"
        },
        "id": "646TreUPmQDf",
        "outputId": "e065af8a-cf62-421a-ca35-73c2a927a4a4"
      },
      "execution_count": null,
      "outputs": [
        {
          "output_type": "stream",
          "name": "stdout",
          "text": [
            "0\n"
          ]
        }
      ]
    },
    {
      "cell_type": "code",
      "source": [
        "a=6\n",
        "a**=3\n",
        "print(a)"
      ],
      "metadata": {
        "colab": {
          "base_uri": "https://localhost:8080/"
        },
        "id": "-X7fgdjhmTf3",
        "outputId": "3bd5db00-8391-48e1-a15f-0c5cfcc3efd9"
      },
      "execution_count": null,
      "outputs": [
        {
          "output_type": "stream",
          "name": "stdout",
          "text": [
            "216\n"
          ]
        }
      ]
    },
    {
      "cell_type": "code",
      "source": [
        "a=6\n",
        "a//=3\n",
        "print(a)"
      ],
      "metadata": {
        "colab": {
          "base_uri": "https://localhost:8080/"
        },
        "id": "5kZgfguhmZxW",
        "outputId": "174bebd9-f209-41be-e27e-21b0dfb888e7"
      },
      "execution_count": null,
      "outputs": [
        {
          "output_type": "stream",
          "name": "stdout",
          "text": [
            "2\n"
          ]
        }
      ]
    },
    {
      "cell_type": "code",
      "source": [
        "a=23\n",
        "b=4\n",
        "c=a+b\n",
        "print (c)"
      ],
      "metadata": {
        "colab": {
          "base_uri": "https://localhost:8080/"
        },
        "id": "Nr7w1tA1mfYX",
        "outputId": "e1879094-d309-48f6-b7b5-da547337aba4"
      },
      "execution_count": null,
      "outputs": [
        {
          "output_type": "stream",
          "name": "stdout",
          "text": [
            "27\n"
          ]
        }
      ]
    },
    {
      "cell_type": "code",
      "source": [
        "a=23\n",
        "b=4\n",
        "c=a-b\n",
        "print (c)"
      ],
      "metadata": {
        "colab": {
          "base_uri": "https://localhost:8080/"
        },
        "id": "jMJaaT7WskLW",
        "outputId": "399b216d-ff87-47c2-aad0-0bd2ee6e12b2"
      },
      "execution_count": null,
      "outputs": [
        {
          "output_type": "stream",
          "name": "stdout",
          "text": [
            "19\n"
          ]
        }
      ]
    },
    {
      "cell_type": "code",
      "source": [
        "a=23\n",
        "b=4\n",
        "c=a*b\n",
        "print (c)"
      ],
      "metadata": {
        "colab": {
          "base_uri": "https://localhost:8080/"
        },
        "id": "zd_WreJUspfu",
        "outputId": "1450ffd0-9392-4634-fe11-764dfa653017"
      },
      "execution_count": null,
      "outputs": [
        {
          "output_type": "stream",
          "name": "stdout",
          "text": [
            "92\n"
          ]
        }
      ]
    },
    {
      "cell_type": "code",
      "source": [
        "a=23\n",
        "b=4\n",
        "c=a/b\n",
        "print (c)"
      ],
      "metadata": {
        "colab": {
          "base_uri": "https://localhost:8080/"
        },
        "id": "CIqkBVHfsqcN",
        "outputId": "52ee62a9-401c-493d-e01b-3fe4286e013c"
      },
      "execution_count": null,
      "outputs": [
        {
          "output_type": "stream",
          "name": "stdout",
          "text": [
            "5.75\n"
          ]
        }
      ]
    },
    {
      "cell_type": "code",
      "source": [
        "a=23\n",
        "b=4\n",
        "c=a/b\n",
        "print (c)"
      ],
      "metadata": {
        "colab": {
          "base_uri": "https://localhost:8080/"
        },
        "id": "tJjEFJexsrJd",
        "outputId": "2f40aab8-7572-4c94-bcc9-eed139d44a0f"
      },
      "execution_count": null,
      "outputs": [
        {
          "output_type": "stream",
          "name": "stdout",
          "text": [
            "5.75\n"
          ]
        }
      ]
    },
    {
      "cell_type": "code",
      "source": [
        "a=23\n",
        "b=4\n",
        "c=a/b\n",
        "print (c)"
      ],
      "metadata": {
        "colab": {
          "base_uri": "https://localhost:8080/"
        },
        "id": "VNL0Ki_ws0OB",
        "outputId": "06ea3d50-b90b-4708-bba9-f341709ebc52"
      },
      "execution_count": null,
      "outputs": [
        {
          "output_type": "stream",
          "name": "stdout",
          "text": [
            "5.75\n"
          ]
        }
      ]
    },
    {
      "cell_type": "code",
      "source": [
        "a=23\n",
        "b=4\n",
        "c=a%b\n",
        "print (c)"
      ],
      "metadata": {
        "colab": {
          "base_uri": "https://localhost:8080/"
        },
        "id": "TzljAymDs7ZC",
        "outputId": "cd461191-21f2-47c9-99fa-58b82103d733"
      },
      "execution_count": null,
      "outputs": [
        {
          "output_type": "stream",
          "name": "stdout",
          "text": [
            "3\n"
          ]
        }
      ]
    },
    {
      "cell_type": "code",
      "source": [
        "a=23\n",
        "b=4\n",
        "c=a**b\n",
        "print (c)"
      ],
      "metadata": {
        "colab": {
          "base_uri": "https://localhost:8080/"
        },
        "id": "tPutSMH9s8Kx",
        "outputId": "15f0802c-6142-46c5-c46d-404d6c6d453a"
      },
      "execution_count": null,
      "outputs": [
        {
          "output_type": "stream",
          "name": "stdout",
          "text": [
            "279841\n"
          ]
        }
      ]
    },
    {
      "cell_type": "code",
      "source": [
        "a=23\n",
        "b=4\n",
        "c=a//b\n",
        "print (c)"
      ],
      "metadata": {
        "colab": {
          "base_uri": "https://localhost:8080/"
        },
        "id": "ubDmC5qOtC4u",
        "outputId": "5c65967a-34c8-4fcb-c887-4b93700dbef6"
      },
      "execution_count": null,
      "outputs": [
        {
          "output_type": "stream",
          "name": "stdout",
          "text": [
            "5\n"
          ]
        }
      ]
    },
    {
      "cell_type": "code",
      "source": [
        "a=23\n",
        "b=4\n",
        "c=a+b\n",
        "print (c)"
      ],
      "metadata": {
        "id": "0kYFk3ehtGRW"
      },
      "execution_count": null,
      "outputs": []
    },
    {
      "cell_type": "code",
      "source": [
        "import pandas as pd\n",
        "df=pd.read_excel('/content/employ 1.xlsx')\n",
        "a=df\n",
        "print(a.values.tolist())\n",
        "df1=pd.read_excel('/content/salary 1.xlsx')\n",
        "l=list(df1.itertuples(index=F++alse))\n",
        "t1=[tuple(x) for x in df1.values]\n",
        "def freq(l):\n",
        "  counter=0\n",
        "  num=l[0]\n",
        "  for i in l:\n",
        "    cf=l.count(i)\n",
        "    if(cf>counter):\n",
        "      counter=cf\n",
        "      num=i\n",
        "      return 0\n",
        "      print(freq(l))\n",
        "\n"
      ],
      "metadata": {
        "colab": {
          "base_uri": "https://localhost:8080/"
        },
        "id": "dAm74S0tuBrt",
        "outputId": "14994ecd-ba9a-451b-bd7a-7adbe280baa4"
      },
      "execution_count": null,
      "outputs": [
        {
          "output_type": "stream",
          "name": "stdout",
          "text": [
            "[['srushti', 10007], ['aditya', 1004], ['divya', 10004], ['soham', 1007], ['isha', 1865], ['rohan', 9876], ['vamika', 4563], ['virat', 8765], ['anushka', 'a=23'], [nan, 'b=4'], [nan, 'c=a+b'], [nan, 'print (c)']]\n"
          ]
        }
      ]
    },
    {
      "cell_type": "code",
      "source": [
        "import math\n",
        "print(math.pow(9,3))\n",
        "\n"
      ],
      "metadata": {
        "colab": {
          "base_uri": "https://localhost:8080/"
        },
        "id": "yEIop6EnSeBd",
        "outputId": "14b578b5-ee6c-412f-c036-0b3a631a8069"
      },
      "execution_count": null,
      "outputs": [
        {
          "output_type": "stream",
          "name": "stdout",
          "text": [
            "729.0\n"
          ]
        }
      ]
    },
    {
      "cell_type": "code",
      "source": [
        "from itertools import count\n",
        "\n",
        "for number in count(start=5,step=3):\n",
        "  if number>10:\n",
        "    break\n",
        "  print(number)\n",
        "\n"
      ],
      "metadata": {
        "colab": {
          "base_uri": "https://localhost:8080/"
        },
        "id": "HzjPfAp0TX3Z",
        "outputId": "fa9059c3-968b-4d0c-8641-7aa83312f413"
      },
      "execution_count": null,
      "outputs": [
        {
          "output_type": "stream",
          "name": "stdout",
          "text": [
            "5\n",
            "8\n"
          ]
        }
      ]
    },
    {
      "cell_type": "code",
      "source": [
        "x=range(3,10)\n",
        "for n in x:\n",
        "  print(n)"
      ],
      "metadata": {
        "colab": {
          "base_uri": "https://localhost:8080/"
        },
        "id": "GN8JgnDBUhtm",
        "outputId": "81e0d308-215b-44e6-9ec8-04c904b16b03"
      },
      "execution_count": null,
      "outputs": [
        {
          "output_type": "stream",
          "name": "stdout",
          "text": [
            "3\n",
            "4\n",
            "5\n",
            "6\n",
            "7\n",
            "8\n",
            "9\n"
          ]
        }
      ]
    },
    {
      "cell_type": "code",
      "source": [
        "import decimal\n",
        "float_division=22/7\n",
        "decimal_devision=decimal.Decimal(22)/decimal.Decimal(7)\n",
        "print(\"result for float division of 4 by 3:\")\n",
        "print(float_division)\n",
        "print(\"result for decimal division of 4 by 3:\")\n",
        "print(decimal_devision)\n",
        "\n"
      ],
      "metadata": {
        "colab": {
          "base_uri": "https://localhost:8080/"
        },
        "id": "msADSRFTUxO8",
        "outputId": "8fad0d52-4bb4-4e47-fcc8-4d5371b44ddc"
      },
      "execution_count": null,
      "outputs": [
        {
          "output_type": "stream",
          "name": "stdout",
          "text": [
            "result for float division of 4 by 3:\n",
            "3.142857142857143\n",
            "result for decimal division of 4 by 3:\n",
            "3.142857142857142857142857143\n"
          ]
        }
      ]
    },
    {
      "cell_type": "code",
      "source": [
        "from fractions import Fraction\n",
        "print(Fraction(84,21))\n",
        "print(Fraction(81,7))\n",
        "print(Fraction(23,17))"
      ],
      "metadata": {
        "colab": {
          "base_uri": "https://localhost:8080/"
        },
        "id": "Y-qwgNFcWle4",
        "outputId": "717c07de-7c13-48b3-953e-8795a8740be5"
      },
      "execution_count": null,
      "outputs": [
        {
          "output_type": "stream",
          "name": "stdout",
          "text": [
            "4\n",
            "81/7\n",
            "23/17\n"
          ]
        }
      ]
    },
    {
      "cell_type": "code",
      "source": [
        "import decimal\n",
        "from decimal import Decimal\n",
        "x=Decimal('0.8')\n",
        "y=Decimal('0.9')\n",
        "z=Decimal('0.7')\n",
        "s=x+y+z\n",
        "print(s)"
      ],
      "metadata": {
        "colab": {
          "base_uri": "https://localhost:8080/"
        },
        "id": "i1J8tvX3XvRD",
        "outputId": "55251983-492e-4a4a-a044-30b19914bde4"
      },
      "execution_count": null,
      "outputs": [
        {
          "output_type": "stream",
          "name": "stdout",
          "text": [
            "2.4\n"
          ]
        }
      ]
    },
    {
      "cell_type": "code",
      "source": [
        "#array operator in python\n",
        "import pandas as pd\n",
        "import numpy as np\n",
        "df=pd.read_excel('/content/note 1.xlsx',header=None)\n",
        "df1=pd.read_excel('/content/note 2.xlsx',header=None)\n",
        "array=df.to_numpy()\n",
        "array1=df1.to_numpy()\n",
        "print(array)\n",
        "print(array1)\n",
        "\n",
        "\n",
        "\n"
      ],
      "metadata": {
        "colab": {
          "base_uri": "https://localhost:8080/"
        },
        "id": "IU70QolHusDq",
        "outputId": "14111d8b-6984-4efb-b9d5-e5529c451a45"
      },
      "execution_count": null,
      "outputs": [
        {
          "output_type": "stream",
          "name": "stdout",
          "text": [
            "[['name' 'age' 'division']\n",
            " ['srushti ' 18 'A']\n",
            " ['divya' 18 'D']\n",
            " ['isha' 18 'A']\n",
            " ['anushka' 25 'C']\n",
            " ['vamika' 4 'B']\n",
            " ['suvarna' 40 'A']]\n",
            "[['name' 'run']\n",
            " ['virat' 223]\n",
            " ['glenn' 100]\n",
            " ['devdutt' 123]\n",
            " ['navdeep' 96]\n",
            " ['AB' 200]\n",
            " ['harshal' 57]]\n"
          ]
        }
      ]
    },
    {
      "cell_type": "code",
      "source": [
        "matrix_length=len(array)\n",
        "print(matrix_length)"
      ],
      "metadata": {
        "colab": {
          "base_uri": "https://localhost:8080/"
        },
        "id": "j6ybQE4oz-Eh",
        "outputId": "5dc994ce-367c-4e92-c6fa-c51f38753c25"
      },
      "execution_count": null,
      "outputs": [
        {
          "output_type": "stream",
          "name": "stdout",
          "text": [
            "7\n"
          ]
        }
      ]
    },
    {
      "cell_type": "code",
      "source": [
        "for i in range(matrix_length):\n",
        "  print(array[i][-1])"
      ],
      "metadata": {
        "colab": {
          "base_uri": "https://localhost:8080/"
        },
        "id": "QwWtTJbB07MC",
        "outputId": "b2952ba6-79f9-4579-fbd2-797fbcc903dd"
      },
      "execution_count": null,
      "outputs": [
        {
          "output_type": "stream",
          "name": "stdout",
          "text": [
            "division\n",
            "A\n",
            "D\n",
            "A\n",
            "C\n",
            "B\n",
            "A\n"
          ]
        }
      ]
    },
    {
      "cell_type": "code",
      "source": [
        "marix_length=len(array)\n",
        "print(matrix_length)"
      ],
      "metadata": {
        "colab": {
          "base_uri": "https://localhost:8080/"
        },
        "id": "UnBQm_Mn1KC5",
        "outputId": "0dbfb681-4798-464e-f2bd-d06e5d7e4923"
      },
      "execution_count": null,
      "outputs": [
        {
          "output_type": "stream",
          "name": "stdout",
          "text": [
            "7\n"
          ]
        }
      ]
    },
    {
      "cell_type": "code",
      "source": [
        "for i in range(matrix_length):\n",
        "  print(array[i])"
      ],
      "metadata": {
        "colab": {
          "base_uri": "https://localhost:8080/"
        },
        "id": "7FV8b3su1fcA",
        "outputId": "2e2f6941-eb8e-4fdb-f4be-6fc9382c826e"
      },
      "execution_count": null,
      "outputs": [
        {
          "output_type": "stream",
          "name": "stdout",
          "text": [
            "['name' 'age' 'division']\n",
            "['srushti ' 18 'A']\n",
            "['divya' 18 'D']\n",
            "['isha' 18 'A']\n",
            "['anushka' 25 'C']\n",
            "['vamika' 4 'B']\n",
            "['suvarna' 40 'A']\n"
          ]
        }
      ]
    },
    {
      "cell_type": "code",
      "source": [
        "print(array.T)"
      ],
      "metadata": {
        "colab": {
          "base_uri": "https://localhost:8080/"
        },
        "id": "QGqqbXga1zzJ",
        "outputId": "6a864d52-1822-4c11-d560-22aaf8bbad3b"
      },
      "execution_count": null,
      "outputs": [
        {
          "output_type": "stream",
          "name": "stdout",
          "text": [
            "[['name' 'srushti ' 'divya' 'isha' 'anushka' 'vamika' 'suvarna']\n",
            " ['age' 18 18 18 25 4 40]\n",
            " ['division' 'A' 'D' 'A' 'C' 'B' 'A']]\n"
          ]
        }
      ]
    },
    {
      "cell_type": "code",
      "source": [
        "array=array[:,array[0,:].argsort()]\n",
        "print(array)\n"
      ],
      "metadata": {
        "colab": {
          "base_uri": "https://localhost:8080/"
        },
        "id": "8NhFjW3-2dV6",
        "outputId": "58bfc612-9647-4ab9-b5e9-863e4d0f556a"
      },
      "execution_count": null,
      "outputs": [
        {
          "output_type": "stream",
          "name": "stdout",
          "text": [
            "[['name' 'age' 'division']\n",
            " ['srushti ' 18 'A']\n",
            " ['divya' 18 'D']\n",
            " ['isha' 18 'A']\n",
            " ['anushka' 25 'C']\n",
            " ['vamika' 4 'B']\n",
            " ['suvarna' 40 'A']]\n"
          ]
        }
      ]
    },
    {
      "cell_type": "code",
      "source": [
        "array3=array.copy()\n",
        "print(array)"
      ],
      "metadata": {
        "colab": {
          "base_uri": "https://localhost:8080/"
        },
        "id": "N7Xi9_SA38xa",
        "outputId": "b8a631b7-b51d-49ae-b819-b655e2452796"
      },
      "execution_count": null,
      "outputs": [
        {
          "output_type": "stream",
          "name": "stdout",
          "text": [
            "[['name' 'age' 'division']\n",
            " ['srushti ' 18 'A']\n",
            " ['divya' 18 'D']\n",
            " ['isha' 18 'A']\n",
            " ['anushka' 25 'C']\n",
            " ['vamika' 4 'B']\n",
            " ['suvarna' 40 'A']]\n"
          ]
        }
      ]
    },
    {
      "cell_type": "code",
      "source": [
        "import pandas as pd\n",
        "import numpy as np\n",
        "df=pd.read_excel('/content/book 12.xlsx',header=None)\n",
        "array=df.to_numpy()\n",
        "a=np.vstack(array)\n",
        "print(a)"
      ],
      "metadata": {
        "colab": {
          "base_uri": "https://localhost:8080/"
        },
        "id": "XBjY5PU1ftWu",
        "outputId": "2320f143-35bb-4489-d2da-962bad875514"
      },
      "execution_count": null,
      "outputs": [
        {
          "output_type": "stream",
          "name": "stdout",
          "text": [
            "[['name' 'roll no' 'age']\n",
            " ['srushti' 1 17]\n",
            " ['divya' 2 18]\n",
            " ['isha' 3 22]\n",
            " ['sakshi' 4 32]\n",
            " ['anushka' 5 34]\n",
            " ['vamika' 6 12]\n",
            " ['athiya' 7 32]\n",
            " ['kiyara' 8 43]\n",
            " ['pooja' 9 22]\n",
            " ['pallavi' 10 33]\n",
            " ['sneha' 11 44]\n",
            " ['anjali' 12 55]\n",
            " ['diksha' 13 66]\n",
            " ['sanika' 14 55]\n",
            " ['poonam' 15 43]\n",
            " ['teju' 16 45]\n",
            " ['aarati' 17 23]\n",
            " ['sanjna' 18 46]\n",
            " ['shruti' 19 21]]\n"
          ]
        }
      ]
    },
    {
      "cell_type": "code",
      "source": [
        "b=np.hstack(array)\n",
        "print(b)"
      ],
      "metadata": {
        "colab": {
          "base_uri": "https://localhost:8080/"
        },
        "id": "OtgRwftKgQNo",
        "outputId": "85fa35df-b60b-4dfc-d50b-96a0b3c97f00"
      },
      "execution_count": null,
      "outputs": [
        {
          "output_type": "stream",
          "name": "stdout",
          "text": [
            "['name' 'roll no' 'age' 'srushti' 1 17 'divya' 2 18 'isha' 3 22 'sakshi' 4\n",
            " 32 'anushka' 5 34 'vamika' 6 12 'athiya' 7 32 'kiyara' 8 43 'pooja' 9 22\n",
            " 'pallavi' 10 33 'sneha' 11 44 'anjali' 12 55 'diksha' 13 66 'sanika' 14\n",
            " 55 'poonam' 15 43 'teju' 16 45 'aarati' 17 23 'sanjna' 18 46 'shruti' 19\n",
            " 21]\n"
          ]
        }
      ]
    },
    {
      "cell_type": "code",
      "source": [
        "c=np.dstack(array)\n",
        "print(c)"
      ],
      "metadata": {
        "colab": {
          "base_uri": "https://localhost:8080/"
        },
        "id": "4FLI2LSBgjL8",
        "outputId": "25f19a59-4b69-471c-a700-3305eec6e8d1"
      },
      "execution_count": null,
      "outputs": [
        {
          "output_type": "stream",
          "name": "stdout",
          "text": [
            "[[['name' 'srushti' 'divya' 'isha' 'sakshi' 'anushka' 'vamika' 'athiya'\n",
            "   'kiyara' 'pooja' 'pallavi' 'sneha' 'anjali' 'diksha' 'sanika'\n",
            "   'poonam' 'teju' 'aarati' 'sanjna' 'shruti']\n",
            "  ['roll no' 1 2 3 4 5 6 7 8 9 10 11 12 13 14 15 16 17 18 19]\n",
            "  ['age' 17 18 22 32 34 12 32 43 22 33 44 55 66 55 43 45 23 46 21]]]\n"
          ]
        }
      ]
    },
    {
      "cell_type": "code",
      "source": [
        "array=np.random.randint(0,3,(20,20))\n",
        "zeros=np.sum(array==0)\n",
        "ones=np.sum(array==1)\n",
        "twos=np.sum(array==2)\n",
        "print(zwros)\n",
        "print(ones)\n",
        "print(twos)\n",
        "arr_stacked=np.stack([array,array])\n",
        "print('numpy horizontal stacking method #1')\n",
        "print('-----------------------------------')\n",
        "print(arr_stacked)\n"
      ],
      "metadata": {
        "colab": {
          "base_uri": "https://localhost:8080/",
          "height": 235
        },
        "id": "G47qJWLhguT2",
        "outputId": "630a4f18-9f06-4bdf-8ef2-897229c8806a"
      },
      "execution_count": null,
      "outputs": [
        {
          "output_type": "error",
          "ename": "NameError",
          "evalue": "ignored",
          "traceback": [
            "\u001b[0;31m---------------------------------------------------------------------------\u001b[0m",
            "\u001b[0;31mNameError\u001b[0m                                 Traceback (most recent call last)",
            "\u001b[0;32m<ipython-input-6-036e7781ac4c>\u001b[0m in \u001b[0;36m<cell line: 5>\u001b[0;34m()\u001b[0m\n\u001b[1;32m      3\u001b[0m \u001b[0mones\u001b[0m\u001b[0;34m=\u001b[0m\u001b[0mnp\u001b[0m\u001b[0;34m.\u001b[0m\u001b[0msum\u001b[0m\u001b[0;34m(\u001b[0m\u001b[0marray\u001b[0m\u001b[0;34m==\u001b[0m\u001b[0;36m1\u001b[0m\u001b[0;34m)\u001b[0m\u001b[0;34m\u001b[0m\u001b[0;34m\u001b[0m\u001b[0m\n\u001b[1;32m      4\u001b[0m \u001b[0mtwos\u001b[0m\u001b[0;34m=\u001b[0m\u001b[0mnp\u001b[0m\u001b[0;34m.\u001b[0m\u001b[0msum\u001b[0m\u001b[0;34m(\u001b[0m\u001b[0marray\u001b[0m\u001b[0;34m==\u001b[0m\u001b[0;36m2\u001b[0m\u001b[0;34m)\u001b[0m\u001b[0;34m\u001b[0m\u001b[0;34m\u001b[0m\u001b[0m\n\u001b[0;32m----> 5\u001b[0;31m \u001b[0mprint\u001b[0m\u001b[0;34m(\u001b[0m\u001b[0mzwros\u001b[0m\u001b[0;34m)\u001b[0m\u001b[0;34m\u001b[0m\u001b[0;34m\u001b[0m\u001b[0m\n\u001b[0m\u001b[1;32m      6\u001b[0m \u001b[0mprint\u001b[0m\u001b[0;34m(\u001b[0m\u001b[0mones\u001b[0m\u001b[0;34m)\u001b[0m\u001b[0;34m\u001b[0m\u001b[0;34m\u001b[0m\u001b[0m\n\u001b[1;32m      7\u001b[0m \u001b[0mprint\u001b[0m\u001b[0;34m(\u001b[0m\u001b[0mtwos\u001b[0m\u001b[0;34m)\u001b[0m\u001b[0;34m\u001b[0m\u001b[0;34m\u001b[0m\u001b[0m\n",
            "\u001b[0;31mNameError\u001b[0m: name 'zwros' is not defined"
          ]
        }
      ]
    },
    {
      "cell_type": "code",
      "source": [
        "Product_details=[]\n",
        "Supplier_details=dict()\n",
        "Customer_details=[]\n",
        "gender={}\n",
        "\n",
        "fp1=open(\"Sales.csv\",\"r\")\n",
        "data=fp1.readline()\n",
        "\n",
        "while(True):\n",
        "\n",
        "    data=fp1.readline()\n",
        "    if not data:\n",
        "        break;\n",
        "    #print(data)\n",
        "    data=data.replace(\"\\n\",\"\")\n",
        "    temp=data.split(\",\")\n",
        "    Product_details.append(temp[1])\n",
        "    Customer_details.append(temp[3])\n",
        "    Supplier_details.update({temp[0]:temp[2]})\n",
        "    gender.update({temp[3]:temp[4]})\n",
        "\n",
        "fp1.close()\n",
        "\n",
        "Customer_details=tuple(Customer_details)\n",
        "print(type(Customer_details))\n",
        "<class 'tuple'>\n",
        "print(\"\\nProduct_details\\n\",Product_details,end=\"\")\n",
        "print(\"\\n\\nCustomer_details\\n\",Customer_details,end=\"\")\n",
        "print(\"\\n\\nSupplier_details\\n\",Supplier_details,end=\"\")\n",
        "print(\"\\n\\nGender_details\\n\",gender,end=\"\")\n",
        "Product_details\n",
        " ['Lenovo Laptop', 'Samsung M31', 'Realmi 10pro', 'Oppo F21', 'Lenovo Laptop', 'Samsung M31', '\"LG TV 32\"\"\"', 'Oppo F21', 'Lenovo Laptop', 'Samsung M31', '\"LG TV 32\"\"\"', 'Lenovo Laptop', 'Samsung M31', 'Realmi 10pro', 'Lenovo Laptop', 'Oppo F21', '\"LG TV 32\"\"\"', 'Lenovo Laptop', 'Samsung M31', '\"LG TV 32\"\"\"']\n",
        "\n",
        "Customer_details\n",
        " ('Kaustubh Mahajan', 'Siddhi Kiwale', 'Sanket Kandalkar', 'Yash Mali', 'Yash Bagul', 'Siddhi Kiwale', 'Sanket Kandalkar', 'Kaustubh Mahajan', 'Yash Mali', 'Siddhi Kiwale', 'Sanket Kandalkar', 'Kaustubh Mahajan', 'Yash Mali', 'Siddhi Kiwale', 'Tanuja Mali', 'Kaustubh Mahajan', 'Sanket Kandalkar', 'Siddhi Kiwale', 'Kaustubh Mahajan', 'Yash Mali')\n",
        "\n",
        "Supplier_details\n",
        " {'P00001': 'Raka Ele.', 'P00002': 'Vijay Sales', 'P00003': 'Gada Ele.', 'P00004': 'Surya Ele.', 'P00005': 'Raka Ele.', 'P00006': 'Gada Ele.', 'P00007': 'Vijay Sales', 'P00008': 'Surya Ele.', 'P00009': 'Raka Ele.', 'P00010': 'Gada Ele.', 'P00011': 'Surya Ele.', 'P00012': 'Raka Ele.', 'P00013': 'Surya Ele.', 'P00014': 'Raka Ele.', 'P00015': 'Gada Ele.', 'P00016': 'Vijay Sales', 'P00017': 'Deshmukh sales', 'P00018': 'Raka Ele.', 'P00019': 'Deshmukh sales', 'P00020': 'Gada Ele.'}\n",
        "\n",
        "Gender_details\n",
        " {'Kaustubh Mahajan': 'Male', 'Siddhi Kiwale': 'Female', 'Sanket Kandalkar': 'Male', 'Yash Mali': 'Male', 'Yash Bagul': 'Male', 'Tanuja Mali': 'Female'}"
      ],
      "metadata": {
        "id": "jmdtDkXBWYn-",
        "colab": {
          "base_uri": "https://localhost:8080/",
          "height": 131
        },
        "outputId": "1b435037-8550-4bc3-d671-95b759156346"
      },
      "execution_count": null,
      "outputs": [
        {
          "output_type": "error",
          "ename": "SyntaxError",
          "evalue": "ignored",
          "traceback": [
            "\u001b[0;36m  File \u001b[0;32m\"<ipython-input-4-ee3b74d9733b>\"\u001b[0;36m, line \u001b[0;32m26\u001b[0m\n\u001b[0;31m    <class 'tuple'>\u001b[0m\n\u001b[0m    ^\u001b[0m\n\u001b[0;31mSyntaxError\u001b[0m\u001b[0;31m:\u001b[0m invalid syntax\n"
          ]
        }
      ]
    },
    {
      "cell_type": "code",
      "source": [
        "item_cost=int(input(\"enter cost\"))\n",
        "budges= int(input(\"enter the budges\"))\n",
        "vegetable=int(input(\"enter the budget for vegetable\"))\n",
        "glossary=int(input(\"enter the budges for glossary\"))\n",
        "daily_need=int(input(\"enter the budget for daily_need\"))\n",
        "if vegetable + glossary > 500 :\n",
        "  print(\"Anuradha will not purches the daily needs\")\n",
        "else:\n",
        "  if vegetable==item_cost and glossary==item_ cost:\n",
        "    print(\"anuradha purches the daily needs\")\n",
        "\n",
        "\n"
      ],
      "metadata": {
        "colab": {
          "base_uri": "https://localhost:8080/"
        },
        "id": "4-vgGFWhlJuq",
        "outputId": "251d3452-ee65-4c43-ade6-ba31771b3b6e"
      },
      "execution_count": null,
      "outputs": [
        {
          "output_type": "stream",
          "name": "stdout",
          "text": [
            "enter cost500\n",
            "enter the budges300\n",
            "enter the budget for vegetable300\n",
            "enter the budges for glossary300\n",
            "enter the budget for daily_need300\n",
            "Anuradha will not purches the daily needs\n"
          ]
        }
      ]
    },
    {
      "cell_type": "code",
      "source": [
        "import numpy as np\n",
        "import pandas as pd\n",
        "import matplotlib.pyplot as plt\n",
        "df=pd.read_csv('/content/archive (10).zip')\n",
        "df3=pd.read_csv('/content/archive (11).zip')\n",
        "print(df)\n",
        "df1=np.array(df)\n",
        "df2=np.array(df3)\n",
        "Xpoints=np.array(df1)\n",
        "Ypoints=np.array(df2)\n",
        "plt.plot(Xpoints,Ypoints)\n",
        "plt.show()\n",
        "\n"
      ],
      "metadata": {
        "id": "P-vAix8k04wX",
        "colab": {
          "base_uri": "https://localhost:8080/",
          "height": 1000
        },
        "outputId": "6ce7997d-b0a4-46dd-fed5-0323104758b6"
      },
      "execution_count": null,
      "outputs": [
        {
          "output_type": "stream",
          "name": "stdout",
          "text": [
            "        N   P   K  temperature   humidity        ph    rainfall   label\n",
            "0      90  42  43    20.879744  82.002744  6.502985  202.935536    rice\n",
            "1      85  58  41    21.770462  80.319644  7.038096  226.655537    rice\n",
            "2      60  55  44    23.004459  82.320763  7.840207  263.964248    rice\n",
            "3      74  35  40    26.491096  80.158363  6.980401  242.864034    rice\n",
            "4      78  42  42    20.130175  81.604873  7.628473  262.717340    rice\n",
            "...   ...  ..  ..          ...        ...       ...         ...     ...\n",
            "2195  107  34  32    26.774637  66.413269  6.780064  177.774507  coffee\n",
            "2196   99  15  27    27.417112  56.636362  6.086922  127.924610  coffee\n",
            "2197  118  33  30    24.131797  67.225123  6.362608  173.322839  coffee\n",
            "2198  117  32  34    26.272418  52.127394  6.758793  127.175293  coffee\n",
            "2199  104  18  30    23.603016  60.396475  6.779833  140.937041  coffee\n",
            "\n",
            "[2200 rows x 8 columns]\n"
          ]
        },
        {
          "output_type": "error",
          "ename": "TypeError",
          "evalue": "ignored",
          "traceback": [
            "\u001b[0;31m---------------------------------------------------------------------------\u001b[0m",
            "\u001b[0;31mTypeError\u001b[0m                                 Traceback (most recent call last)",
            "\u001b[0;32m<ipython-input-6-0f1d3867d5e5>\u001b[0m in \u001b[0;36m<cell line: 11>\u001b[0;34m()\u001b[0m\n\u001b[1;32m      9\u001b[0m \u001b[0mXpoints\u001b[0m\u001b[0;34m=\u001b[0m\u001b[0mnp\u001b[0m\u001b[0;34m.\u001b[0m\u001b[0marray\u001b[0m\u001b[0;34m(\u001b[0m\u001b[0mdf1\u001b[0m\u001b[0;34m)\u001b[0m\u001b[0;34m\u001b[0m\u001b[0;34m\u001b[0m\u001b[0m\n\u001b[1;32m     10\u001b[0m \u001b[0mYpoints\u001b[0m\u001b[0;34m=\u001b[0m\u001b[0mnp\u001b[0m\u001b[0;34m.\u001b[0m\u001b[0marray\u001b[0m\u001b[0;34m(\u001b[0m\u001b[0mdf2\u001b[0m\u001b[0;34m)\u001b[0m\u001b[0;34m\u001b[0m\u001b[0;34m\u001b[0m\u001b[0m\n\u001b[0;32m---> 11\u001b[0;31m \u001b[0mplt\u001b[0m\u001b[0;34m.\u001b[0m\u001b[0mplot\u001b[0m\u001b[0;34m(\u001b[0m\u001b[0mXpoints\u001b[0m\u001b[0;34m,\u001b[0m\u001b[0mYpoints\u001b[0m\u001b[0;34m)\u001b[0m\u001b[0;34m\u001b[0m\u001b[0;34m\u001b[0m\u001b[0m\n\u001b[0m\u001b[1;32m     12\u001b[0m \u001b[0mplt\u001b[0m\u001b[0;34m.\u001b[0m\u001b[0mshow\u001b[0m\u001b[0;34m(\u001b[0m\u001b[0;34m)\u001b[0m\u001b[0;34m\u001b[0m\u001b[0;34m\u001b[0m\u001b[0m\n\u001b[1;32m     13\u001b[0m \u001b[0;34m\u001b[0m\u001b[0m\n",
            "\u001b[0;32m/usr/local/lib/python3.10/dist-packages/matplotlib/pyplot.py\u001b[0m in \u001b[0;36mplot\u001b[0;34m(scalex, scaley, data, *args, **kwargs)\u001b[0m\n\u001b[1;32m   2810\u001b[0m \u001b[0;34m@\u001b[0m\u001b[0m_copy_docstring_and_deprecators\u001b[0m\u001b[0;34m(\u001b[0m\u001b[0mAxes\u001b[0m\u001b[0;34m.\u001b[0m\u001b[0mplot\u001b[0m\u001b[0;34m)\u001b[0m\u001b[0;34m\u001b[0m\u001b[0;34m\u001b[0m\u001b[0m\n\u001b[1;32m   2811\u001b[0m \u001b[0;32mdef\u001b[0m \u001b[0mplot\u001b[0m\u001b[0;34m(\u001b[0m\u001b[0;34m*\u001b[0m\u001b[0margs\u001b[0m\u001b[0;34m,\u001b[0m \u001b[0mscalex\u001b[0m\u001b[0;34m=\u001b[0m\u001b[0;32mTrue\u001b[0m\u001b[0;34m,\u001b[0m \u001b[0mscaley\u001b[0m\u001b[0;34m=\u001b[0m\u001b[0;32mTrue\u001b[0m\u001b[0;34m,\u001b[0m \u001b[0mdata\u001b[0m\u001b[0;34m=\u001b[0m\u001b[0;32mNone\u001b[0m\u001b[0;34m,\u001b[0m \u001b[0;34m**\u001b[0m\u001b[0mkwargs\u001b[0m\u001b[0;34m)\u001b[0m\u001b[0;34m:\u001b[0m\u001b[0;34m\u001b[0m\u001b[0;34m\u001b[0m\u001b[0m\n\u001b[0;32m-> 2812\u001b[0;31m     return gca().plot(\n\u001b[0m\u001b[1;32m   2813\u001b[0m         \u001b[0;34m*\u001b[0m\u001b[0margs\u001b[0m\u001b[0;34m,\u001b[0m \u001b[0mscalex\u001b[0m\u001b[0;34m=\u001b[0m\u001b[0mscalex\u001b[0m\u001b[0;34m,\u001b[0m \u001b[0mscaley\u001b[0m\u001b[0;34m=\u001b[0m\u001b[0mscaley\u001b[0m\u001b[0;34m,\u001b[0m\u001b[0;34m\u001b[0m\u001b[0;34m\u001b[0m\u001b[0m\n\u001b[1;32m   2814\u001b[0m         **({\"data\": data} if data is not None else {}), **kwargs)\n",
            "\u001b[0;32m/usr/local/lib/python3.10/dist-packages/matplotlib/axes/_axes.py\u001b[0m in \u001b[0;36mplot\u001b[0;34m(self, scalex, scaley, data, *args, **kwargs)\u001b[0m\n\u001b[1;32m   1686\u001b[0m         \"\"\"\n\u001b[1;32m   1687\u001b[0m         \u001b[0mkwargs\u001b[0m \u001b[0;34m=\u001b[0m \u001b[0mcbook\u001b[0m\u001b[0;34m.\u001b[0m\u001b[0mnormalize_kwargs\u001b[0m\u001b[0;34m(\u001b[0m\u001b[0mkwargs\u001b[0m\u001b[0;34m,\u001b[0m \u001b[0mmlines\u001b[0m\u001b[0;34m.\u001b[0m\u001b[0mLine2D\u001b[0m\u001b[0;34m)\u001b[0m\u001b[0;34m\u001b[0m\u001b[0;34m\u001b[0m\u001b[0m\n\u001b[0;32m-> 1688\u001b[0;31m         \u001b[0mlines\u001b[0m \u001b[0;34m=\u001b[0m \u001b[0;34m[\u001b[0m\u001b[0;34m*\u001b[0m\u001b[0mself\u001b[0m\u001b[0;34m.\u001b[0m\u001b[0m_get_lines\u001b[0m\u001b[0;34m(\u001b[0m\u001b[0;34m*\u001b[0m\u001b[0margs\u001b[0m\u001b[0;34m,\u001b[0m \u001b[0mdata\u001b[0m\u001b[0;34m=\u001b[0m\u001b[0mdata\u001b[0m\u001b[0;34m,\u001b[0m \u001b[0;34m**\u001b[0m\u001b[0mkwargs\u001b[0m\u001b[0;34m)\u001b[0m\u001b[0;34m]\u001b[0m\u001b[0;34m\u001b[0m\u001b[0;34m\u001b[0m\u001b[0m\n\u001b[0m\u001b[1;32m   1689\u001b[0m         \u001b[0;32mfor\u001b[0m \u001b[0mline\u001b[0m \u001b[0;32min\u001b[0m \u001b[0mlines\u001b[0m\u001b[0;34m:\u001b[0m\u001b[0;34m\u001b[0m\u001b[0;34m\u001b[0m\u001b[0m\n\u001b[1;32m   1690\u001b[0m             \u001b[0mself\u001b[0m\u001b[0;34m.\u001b[0m\u001b[0madd_line\u001b[0m\u001b[0;34m(\u001b[0m\u001b[0mline\u001b[0m\u001b[0;34m)\u001b[0m\u001b[0;34m\u001b[0m\u001b[0;34m\u001b[0m\u001b[0m\n",
            "\u001b[0;32m/usr/local/lib/python3.10/dist-packages/matplotlib/axes/_base.py\u001b[0m in \u001b[0;36m__call__\u001b[0;34m(self, data, *args, **kwargs)\u001b[0m\n\u001b[1;32m    309\u001b[0m                 \u001b[0mthis\u001b[0m \u001b[0;34m+=\u001b[0m \u001b[0margs\u001b[0m\u001b[0;34m[\u001b[0m\u001b[0;36m0\u001b[0m\u001b[0;34m]\u001b[0m\u001b[0;34m,\u001b[0m\u001b[0;34m\u001b[0m\u001b[0;34m\u001b[0m\u001b[0m\n\u001b[1;32m    310\u001b[0m                 \u001b[0margs\u001b[0m \u001b[0;34m=\u001b[0m \u001b[0margs\u001b[0m\u001b[0;34m[\u001b[0m\u001b[0;36m1\u001b[0m\u001b[0;34m:\u001b[0m\u001b[0;34m]\u001b[0m\u001b[0;34m\u001b[0m\u001b[0;34m\u001b[0m\u001b[0m\n\u001b[0;32m--> 311\u001b[0;31m             yield from self._plot_args(\n\u001b[0m\u001b[1;32m    312\u001b[0m                 this, kwargs, ambiguous_fmt_datakey=ambiguous_fmt_datakey)\n\u001b[1;32m    313\u001b[0m \u001b[0;34m\u001b[0m\u001b[0m\n",
            "\u001b[0;32m/usr/local/lib/python3.10/dist-packages/matplotlib/axes/_base.py\u001b[0m in \u001b[0;36m_plot_args\u001b[0;34m(self, tup, kwargs, return_kwargs, ambiguous_fmt_datakey)\u001b[0m\n\u001b[1;32m    499\u001b[0m             \u001b[0mself\u001b[0m\u001b[0;34m.\u001b[0m\u001b[0maxes\u001b[0m\u001b[0;34m.\u001b[0m\u001b[0mxaxis\u001b[0m\u001b[0;34m.\u001b[0m\u001b[0mupdate_units\u001b[0m\u001b[0;34m(\u001b[0m\u001b[0mx\u001b[0m\u001b[0;34m)\u001b[0m\u001b[0;34m\u001b[0m\u001b[0;34m\u001b[0m\u001b[0m\n\u001b[1;32m    500\u001b[0m         \u001b[0;32mif\u001b[0m \u001b[0mself\u001b[0m\u001b[0;34m.\u001b[0m\u001b[0maxes\u001b[0m\u001b[0;34m.\u001b[0m\u001b[0myaxis\u001b[0m \u001b[0;32mis\u001b[0m \u001b[0;32mnot\u001b[0m \u001b[0;32mNone\u001b[0m\u001b[0;34m:\u001b[0m\u001b[0;34m\u001b[0m\u001b[0;34m\u001b[0m\u001b[0m\n\u001b[0;32m--> 501\u001b[0;31m             \u001b[0mself\u001b[0m\u001b[0;34m.\u001b[0m\u001b[0maxes\u001b[0m\u001b[0;34m.\u001b[0m\u001b[0myaxis\u001b[0m\u001b[0;34m.\u001b[0m\u001b[0mupdate_units\u001b[0m\u001b[0;34m(\u001b[0m\u001b[0my\u001b[0m\u001b[0;34m)\u001b[0m\u001b[0;34m\u001b[0m\u001b[0;34m\u001b[0m\u001b[0m\n\u001b[0m\u001b[1;32m    502\u001b[0m \u001b[0;34m\u001b[0m\u001b[0m\n\u001b[1;32m    503\u001b[0m         \u001b[0;32mif\u001b[0m \u001b[0mx\u001b[0m\u001b[0;34m.\u001b[0m\u001b[0mshape\u001b[0m\u001b[0;34m[\u001b[0m\u001b[0;36m0\u001b[0m\u001b[0;34m]\u001b[0m \u001b[0;34m!=\u001b[0m \u001b[0my\u001b[0m\u001b[0;34m.\u001b[0m\u001b[0mshape\u001b[0m\u001b[0;34m[\u001b[0m\u001b[0;36m0\u001b[0m\u001b[0;34m]\u001b[0m\u001b[0;34m:\u001b[0m\u001b[0;34m\u001b[0m\u001b[0;34m\u001b[0m\u001b[0m\n",
            "\u001b[0;32m/usr/local/lib/python3.10/dist-packages/matplotlib/axis.py\u001b[0m in \u001b[0;36mupdate_units\u001b[0;34m(self, data)\u001b[0m\n\u001b[1;32m   1673\u001b[0m         \u001b[0mneednew\u001b[0m \u001b[0;34m=\u001b[0m \u001b[0mself\u001b[0m\u001b[0;34m.\u001b[0m\u001b[0mconverter\u001b[0m \u001b[0;34m!=\u001b[0m \u001b[0mconverter\u001b[0m\u001b[0;34m\u001b[0m\u001b[0;34m\u001b[0m\u001b[0m\n\u001b[1;32m   1674\u001b[0m         \u001b[0mself\u001b[0m\u001b[0;34m.\u001b[0m\u001b[0mconverter\u001b[0m \u001b[0;34m=\u001b[0m \u001b[0mconverter\u001b[0m\u001b[0;34m\u001b[0m\u001b[0;34m\u001b[0m\u001b[0m\n\u001b[0;32m-> 1675\u001b[0;31m         \u001b[0mdefault\u001b[0m \u001b[0;34m=\u001b[0m \u001b[0mself\u001b[0m\u001b[0;34m.\u001b[0m\u001b[0mconverter\u001b[0m\u001b[0;34m.\u001b[0m\u001b[0mdefault_units\u001b[0m\u001b[0;34m(\u001b[0m\u001b[0mdata\u001b[0m\u001b[0;34m,\u001b[0m \u001b[0mself\u001b[0m\u001b[0;34m)\u001b[0m\u001b[0;34m\u001b[0m\u001b[0;34m\u001b[0m\u001b[0m\n\u001b[0m\u001b[1;32m   1676\u001b[0m         \u001b[0;32mif\u001b[0m \u001b[0mdefault\u001b[0m \u001b[0;32mis\u001b[0m \u001b[0;32mnot\u001b[0m \u001b[0;32mNone\u001b[0m \u001b[0;32mand\u001b[0m \u001b[0mself\u001b[0m\u001b[0;34m.\u001b[0m\u001b[0munits\u001b[0m \u001b[0;32mis\u001b[0m \u001b[0;32mNone\u001b[0m\u001b[0;34m:\u001b[0m\u001b[0;34m\u001b[0m\u001b[0;34m\u001b[0m\u001b[0m\n\u001b[1;32m   1677\u001b[0m             \u001b[0mself\u001b[0m\u001b[0;34m.\u001b[0m\u001b[0mset_units\u001b[0m\u001b[0;34m(\u001b[0m\u001b[0mdefault\u001b[0m\u001b[0;34m)\u001b[0m\u001b[0;34m\u001b[0m\u001b[0;34m\u001b[0m\u001b[0m\n",
            "\u001b[0;32m/usr/local/lib/python3.10/dist-packages/matplotlib/category.py\u001b[0m in \u001b[0;36mdefault_units\u001b[0;34m(data, axis)\u001b[0m\n\u001b[1;32m    103\u001b[0m         \u001b[0;31m# the conversion call stack is default_units -> axis_info -> convert\u001b[0m\u001b[0;34m\u001b[0m\u001b[0;34m\u001b[0m\u001b[0m\n\u001b[1;32m    104\u001b[0m         \u001b[0;32mif\u001b[0m \u001b[0maxis\u001b[0m\u001b[0;34m.\u001b[0m\u001b[0munits\u001b[0m \u001b[0;32mis\u001b[0m \u001b[0;32mNone\u001b[0m\u001b[0;34m:\u001b[0m\u001b[0;34m\u001b[0m\u001b[0;34m\u001b[0m\u001b[0m\n\u001b[0;32m--> 105\u001b[0;31m             \u001b[0maxis\u001b[0m\u001b[0;34m.\u001b[0m\u001b[0mset_units\u001b[0m\u001b[0;34m(\u001b[0m\u001b[0mUnitData\u001b[0m\u001b[0;34m(\u001b[0m\u001b[0mdata\u001b[0m\u001b[0;34m)\u001b[0m\u001b[0;34m)\u001b[0m\u001b[0;34m\u001b[0m\u001b[0;34m\u001b[0m\u001b[0m\n\u001b[0m\u001b[1;32m    106\u001b[0m         \u001b[0;32melse\u001b[0m\u001b[0;34m:\u001b[0m\u001b[0;34m\u001b[0m\u001b[0;34m\u001b[0m\u001b[0m\n\u001b[1;32m    107\u001b[0m             \u001b[0maxis\u001b[0m\u001b[0;34m.\u001b[0m\u001b[0munits\u001b[0m\u001b[0;34m.\u001b[0m\u001b[0mupdate\u001b[0m\u001b[0;34m(\u001b[0m\u001b[0mdata\u001b[0m\u001b[0;34m)\u001b[0m\u001b[0;34m\u001b[0m\u001b[0;34m\u001b[0m\u001b[0m\n",
            "\u001b[0;32m/usr/local/lib/python3.10/dist-packages/matplotlib/category.py\u001b[0m in \u001b[0;36m__init__\u001b[0;34m(self, data)\u001b[0m\n\u001b[1;32m    179\u001b[0m         \u001b[0mself\u001b[0m\u001b[0;34m.\u001b[0m\u001b[0m_counter\u001b[0m \u001b[0;34m=\u001b[0m \u001b[0mitertools\u001b[0m\u001b[0;34m.\u001b[0m\u001b[0mcount\u001b[0m\u001b[0;34m(\u001b[0m\u001b[0;34m)\u001b[0m\u001b[0;34m\u001b[0m\u001b[0;34m\u001b[0m\u001b[0m\n\u001b[1;32m    180\u001b[0m         \u001b[0;32mif\u001b[0m \u001b[0mdata\u001b[0m \u001b[0;32mis\u001b[0m \u001b[0;32mnot\u001b[0m \u001b[0;32mNone\u001b[0m\u001b[0;34m:\u001b[0m\u001b[0;34m\u001b[0m\u001b[0;34m\u001b[0m\u001b[0m\n\u001b[0;32m--> 181\u001b[0;31m             \u001b[0mself\u001b[0m\u001b[0;34m.\u001b[0m\u001b[0mupdate\u001b[0m\u001b[0;34m(\u001b[0m\u001b[0mdata\u001b[0m\u001b[0;34m)\u001b[0m\u001b[0;34m\u001b[0m\u001b[0;34m\u001b[0m\u001b[0m\n\u001b[0m\u001b[1;32m    182\u001b[0m \u001b[0;34m\u001b[0m\u001b[0m\n\u001b[1;32m    183\u001b[0m     \u001b[0;34m@\u001b[0m\u001b[0mstaticmethod\u001b[0m\u001b[0;34m\u001b[0m\u001b[0;34m\u001b[0m\u001b[0m\n",
            "\u001b[0;32m/usr/local/lib/python3.10/dist-packages/matplotlib/category.py\u001b[0m in \u001b[0;36mupdate\u001b[0;34m(self, data)\u001b[0m\n\u001b[1;32m    212\u001b[0m         \u001b[0;31m# check if convertible to number:\u001b[0m\u001b[0;34m\u001b[0m\u001b[0;34m\u001b[0m\u001b[0m\n\u001b[1;32m    213\u001b[0m         \u001b[0mconvertible\u001b[0m \u001b[0;34m=\u001b[0m \u001b[0;32mTrue\u001b[0m\u001b[0;34m\u001b[0m\u001b[0;34m\u001b[0m\u001b[0m\n\u001b[0;32m--> 214\u001b[0;31m         \u001b[0;32mfor\u001b[0m \u001b[0mval\u001b[0m \u001b[0;32min\u001b[0m \u001b[0mOrderedDict\u001b[0m\u001b[0;34m.\u001b[0m\u001b[0mfromkeys\u001b[0m\u001b[0;34m(\u001b[0m\u001b[0mdata\u001b[0m\u001b[0;34m)\u001b[0m\u001b[0;34m:\u001b[0m\u001b[0;34m\u001b[0m\u001b[0;34m\u001b[0m\u001b[0m\n\u001b[0m\u001b[1;32m    215\u001b[0m             \u001b[0;31m# OrderedDict just iterates over unique values in data.\u001b[0m\u001b[0;34m\u001b[0m\u001b[0;34m\u001b[0m\u001b[0m\n\u001b[1;32m    216\u001b[0m             \u001b[0m_api\u001b[0m\u001b[0;34m.\u001b[0m\u001b[0mcheck_isinstance\u001b[0m\u001b[0;34m(\u001b[0m\u001b[0;34m(\u001b[0m\u001b[0mstr\u001b[0m\u001b[0;34m,\u001b[0m \u001b[0mbytes\u001b[0m\u001b[0;34m)\u001b[0m\u001b[0;34m,\u001b[0m \u001b[0mvalue\u001b[0m\u001b[0;34m=\u001b[0m\u001b[0mval\u001b[0m\u001b[0;34m)\u001b[0m\u001b[0;34m\u001b[0m\u001b[0;34m\u001b[0m\u001b[0m\n",
            "\u001b[0;31mTypeError\u001b[0m: unhashable type: 'numpy.ndarray'"
          ]
        },
        {
          "output_type": "display_data",
          "data": {
            "text/plain": [
              "<Figure size 640x480 with 1 Axes>"
            ],
            "image/png": "[encoded data removed]"
          },
          "metadata": {}
        }
      ]
    },
    {
      "cell_type": "code",
      "source": [],
      "metadata": {
        "id": "eGsgLf9OeR_Y"
      },
      "execution_count": null,
      "outputs": []
    },
    {
      "cell_type": "code",
      "source": [
        "import numpy as np\n",
        "import pandas as pd\n",
        "import matplotlib.pyplot as plt\n",
        "excel_file_path = \"/content/drive/MyDrive/metro_system.xlsx\"\n",
        "\n",
        "data_frame = pd.read_excel(/content/drive/MyDrive/metro_system.xlsx)\n",
        "\n",
        "array_data = np.array(data_frame)\n",
        "\n",
        "x = np.array(data_frame[\"System length\"])\n",
        "y = np.array(data_frame[\"Stations\"])\n",
        "\n",
        "print(array_data)\n",
        "\n",
        "print(x)\n",
        "print(y)\n",
        "\n",
        "plt.plot(x, y, marker=\"o\")\n",
        "plt.xlabel(\"System length\")\n",
        "plt.ylabel(\"Stations\")\n",
        "plt.title(\"Graph of Column1 vs Column2\")"
      ],
      "metadata": {
        "colab": {
          "base_uri": "https://localhost:8080/",
          "height": 130
        },
        "id": "3pUNoxFCAas1",
        "outputId": "60ebb183-c3ff-40df-d765-ff84b78840ce"
      },
      "execution_count": null,
      "outputs": [
        {
          "output_type": "error",
          "ename": "SyntaxError",
          "evalue": "ignored",
          "traceback": [
            "\u001b[0;36m  File \u001b[0;32m\"<ipython-input-7-609a219b6c74>\"\u001b[0;36m, line \u001b[0;32m6\u001b[0m\n\u001b[0;31m    data_frame = pd.read_excel(/content/archive (10).zip)\u001b[0m\n\u001b[0m                               ^\u001b[0m\n\u001b[0;31mSyntaxError\u001b[0m\u001b[0;31m:\u001b[0m invalid syntax\n"
          ]
        }
      ]
    },
    {
      "cell_type": "code",
      "source": [
        "import numpy as np\n",
        "import pandas as pd\n",
        "import matplotlib.pyplot as plt\n",
        "excel_file_path = \"/content/metro_system (1).xlsx\"\n",
        "\n",
        "\n",
        "\n",
        "# Read the Excel file into a pandas DataFrame\n",
        "data_frame = pd.read_excel(excel_file_path)\n",
        "\n",
        "# Convert the DataFrame to a NumPy array\n",
        "array_data = np.array(data_frame)\n",
        "\n",
        "# Extract two specific columns as separate arrays\n",
        "x = np.array(data_frame[\"System length\"])\n",
        "y = np.array(data_frame[\"Stations\"])\n",
        "\n",
        "# Print the entire array\n",
        "print(array_data)\n",
        "\n",
        "# Print the extracted column arrays\n",
        "print(x)\n",
        "print(y)\n",
        "\n",
        "# Plot the data\n",
        "plt.plot(x, y, marker=\"o\")\n",
        "plt.xlabel(\"System length\")\n",
        "plt.ylabel(\"Stations\")\n",
        "plt.title(\"Graph of Column1 vs Column2\")\n",
        "\n",
        "# Display the graph\n",
        "plt.show()"
      ],
      "metadata": {
        "id": "-aNXvEG2_ve1",
        "colab": {
          "base_uri": "https://localhost:8080/",
          "height": 1000
        },
        "outputId": "275f968e-5e9c-4c58-b14d-8df5022dfd40"
      },
      "execution_count": null,
      "outputs": [
        {
          "output_type": "stream",
          "name": "stdout",
          "text": [
            "[['Algiers' 'Algeria' 'Algiers Metro' ... 19 '18.5\\xa0km (11.5\\xa0mi)'\n",
            "  '45.3 (2019)']\n",
            " ['Buenos Aires' 'Argentina' 'Buenos Aires Underground' ... 78\n",
            "  '56.7\\xa0km (35.2\\xa0mi)' '74.0 (2020)']\n",
            " ['Yerevan' 'Armenia' 'Yerevan Metro' ... 10 '12.1\\xa0km (7.5\\xa0mi)'\n",
            "  '23.3 (2022)']\n",
            " ...\n",
            " ['Tashkent' 'Uzbekistan' 'Tashkent Metro' ... 48\n",
            "  '59.1\\xa0km (36.7\\xa0mi)' '136.7 (2022)']\n",
            " ['Caracas' 'Venezuela' 'Caracas Metro' ... 49 '67.2\\xa0km (41.8\\xa0mi)'\n",
            "  '358 (2017)']\n",
            " ['Hanoi' 'Vietnam' 'Hanoi Metro' ... 12 '13.1\\xa0km (8.1\\xa0mi)' 7.5]]\n",
            "['18.5\\xa0km (11.5\\xa0mi)' '56.7\\xa0km (35.2\\xa0mi)'\n",
            " '12.1\\xa0km (7.5\\xa0mi)' '36\\xa0km (22\\xa0mi)' '83.3\\xa0km (51.8\\xa0mi)'\n",
            " '40.7\\xa0km (25.3\\xa0mi)' '11.7\\xa0km (7.3\\xa0mi)'\n",
            " '40.8\\xa0km (25.4\\xa0mi)' '39.9\\xa0km (24.8\\xa0mi)'\n",
            " '28.1\\xa0km (17.5\\xa0mi)' '42.38\\xa0km (26.33\\xa0mi)'\n",
            " '24.1\\xa0km (15.0\\xa0mi)' '43.8\\xa0km (27.2\\xa0mi)'\n",
            " '39.5\\xa0km (24.5\\xa0mi)' '58\\xa0km (36\\xa0mi)' '32.5\\xa0km (20.2\\xa0mi)'\n",
            " '104.4\\xa0km (64.9\\xa0mi)' '52\\xa0km (32\\xa0mi)'\n",
            " '69.2\\xa0km (43.0\\xa0mi)' '76.9\\xa0km (47.8\\xa0mi)'\n",
            " '79.6\\xa0km (49.5\\xa0mi)' '140\\xa0km (87\\xa0mi)'\n",
            " '785.7\\xa0km (488.2\\xa0mi)' '72.6\\xa0km (45.1\\xa0mi)'\n",
            " '207.9\\xa0km (129.2\\xa0mi)' '54.03\\xa0km (33.57\\xa0mi)'\n",
            " '518.5\\xa0km (322.2\\xa0mi)' '485.02\\xa0km (301.38\\xa0mi)'\n",
            " '237.74\\xa0km (147.72\\xa0mi)' '37.7\\xa0km (23.4\\xa0mi)'\n",
            " '112.7\\xa0km (70.0\\xa0mi)' '114.2\\xa0km (71.0\\xa0mi)'\n",
            " '617.05\\xa0km (383.42\\xa0mi)' '75.7\\xa0km (47.0\\xa0mi)'\n",
            " '516.2\\xa0km (320.8\\xa0mi)' '79.4\\xa0km (49.3\\xa0mi)'\n",
            " '170.95\\xa0km (106.22\\xa0mi)' '49.039\\xa0km (30.471\\xa0mi)'\n",
            " '209.0\\xa0km (129.9\\xa0mi)' '84.25\\xa0km (52.35\\xa0mi)'\n",
            " '118.5\\xa0km (73.6\\xa0mi)' '164.3\\xa0km (102.1\\xa0mi)'\n",
            " '25.9\\xa0km (16.1\\xa0mi)' '43.554\\xa0km (27.063\\xa0mi)'\n",
            " '128.3\\xa0km (79.7\\xa0mi)' '449.45\\xa0km (279.28\\xa0mi)'\n",
            " '128.2\\xa0km (79.7\\xa0mi)' '39.182\\xa0km (24.347\\xa0mi)'\n",
            " '185.36\\xa0km (115.18\\xa0mi)' '315.86\\xa0km (196.27\\xa0mi)'\n",
            " '795.5\\xa0km (494.3\\xa0mi)' '47.1\\xa0km (29.3\\xa0mi)'\n",
            " '115.9\\xa0km (72.0\\xa0mi)' '547.42\\xa0km (340.15\\xa0mi)'\n",
            " '76.5\\xa0km (47.5\\xa0mi)' '208.2\\xa0km (129.4\\xa0mi)'\n",
            " '23.647\\xa0km (14.694\\xa0mi)' '52.4\\xa0km (32.6\\xa0mi)'\n",
            " '288.25\\xa0km (179.11\\xa0mi)' '27.615\\xa0km (17.159\\xa0mi)'\n",
            " '53.507\\xa0km (33.248\\xa0mi)' '460.944\\xa0km (286.417\\xa0mi)'\n",
            " '114.8\\xa0km (71.3\\xa0mi)' '98.4\\xa0km (61.1\\xa0mi)'\n",
            " '278.5\\xa0km (173.1\\xa0mi)' '64.35\\xa0km (39.99\\xa0mi)'\n",
            " '232.5\\xa0km (144.5\\xa0mi)' '31.3\\xa0km (19.4\\xa0mi)'\n",
            " '65.4\\xa0km (40.6\\xa0mi)' '38.2\\xa0km (23.7\\xa0mi)'\n",
            " '31.0\\xa0km (19.3\\xa0mi)' '22.6\\xa0km (14.0\\xa0mi)'\n",
            " '93.1\\xa0km (57.8\\xa0mi)' '43\\xa0km (27\\xa0mi)' '45\\xa0km (28\\xa0mi)'\n",
            " '32.0\\xa0km (19.9\\xa0mi)' '22.7\\xa0km (14.1\\xa0mi)'\n",
            " '226.9\\xa0km (141.0\\xa0mi)' '22.4\\xa0km (13.9\\xa0mi)'\n",
            " '28.2\\xa0km (17.5\\xa0mi)' '28.6\\xa0km (17.8\\xa0mi)'\n",
            " '147.8\\xa0km (91.8\\xa0mi)' '105.8\\xa0km (65.7\\xa0mi)'\n",
            " '95\\xa0km (59\\xa0mi)' '38.2\\xa0km (23.7\\xa0mi)' '91.7\\xa0km (57.0\\xa0mi)'\n",
            " '38.2\\xa0km (23.7\\xa0mi)' '37.86\\xa0km (23.53\\xa0mi)'\n",
            " '68.6\\xa0km (42.6\\xa0mi)' '54\\xa0km (34\\xa0mi)'\n",
            " '348.12\\xa0km (216.31\\xa0mi)' '12.8\\xa0km (8.0\\xa0mi)'\n",
            " '69\\xa0km (43\\xa0mi)' '12.0\\xa0km (7.5\\xa0mi)' '8.98\\xa0km (5.58\\xa0mi)'\n",
            " '27.4\\xa0km (17.0\\xa0mi)' '46.96\\xa0km (29.18\\xa0mi)'\n",
            " '22.87\\xa0km (14.21\\xa0mi)' '46.4\\xa0km (28.8\\xa0mi)'\n",
            " '38.2\\xa0km (23.7\\xa0mi)' '29.7\\xa0km (18.5\\xa0mi)'\n",
            " '12\\xa0km (7.5\\xa0mi)' '15.7\\xa0km (9.8\\xa0mi)' '20.2\\xa0km (12.6\\xa0mi)'\n",
            " '37.5\\xa0km (23.3\\xa0mi)' '32.5\\xa0km (20.2\\xa0mi)'\n",
            " '6.5\\xa0km (4.0\\xa0mi)' '17.2\\xa0km (10.7\\xa0mi)'\n",
            " '168.2\\xa0km (104.5\\xa0mi)' '13.7\\xa0km (8.5\\xa0mi)'\n",
            " '8.8\\xa0km (5.5\\xa0mi)' '7.1\\xa0km (4.4\\xa0mi)'\n",
            " '102.5\\xa0km (63.7\\xa0mi)' '30.8\\xa0km (19.1\\xa0mi)'\n",
            " '60\\xa0km (37\\xa0mi)' '15.1\\xa0km (9.4\\xa0mi)' '31.4\\xa0km (19.5\\xa0mi)'\n",
            " '18.4\\xa0km (11.4\\xa0mi)' '38.1\\xa0km (23.7\\xa0mi)'\n",
            " '31.2\\xa0km (19.4\\xa0mi)' '93.3\\xa0km (58.0\\xa0mi)'\n",
            " '129.9\\xa0km (80.7\\xa0mi)' '48.0\\xa0km (29.8\\xa0mi)'\n",
            " '28.7\\xa0km (17.8\\xa0mi)' '109.0\\xa0km (67.7\\xa0mi)'\n",
            " '195.1\\xa0km (121.2\\xa0mi)' '12.2\\xa0km (7.6\\xa0mi)'\n",
            " '53.4\\xa0km (33.2\\xa0mi)' '4.1\\xa0km (2.5\\xa0mi)'\n",
            " '13.4\\xa0km (8.3\\xa0mi)' '22.5\\xa0km (14.0\\xa0mi)'\n",
            " '139.9\\xa0km (86.9\\xa0mi)' '82.9\\xa0km (51.5\\xa0mi)'\n",
            " '22.7\\xa0km (14.1\\xa0mi)' '20.1\\xa0km (12.5\\xa0mi)'\n",
            " '59.4\\xa0km (36.9\\xa0mi)' '345.3\\xa0km (214.6\\xa0mi)'\n",
            " '151.7\\xa0km (94.3\\xa0mi)' '33.4\\xa0km (20.8\\xa0mi)'\n",
            " '196.2\\xa0km (121.9\\xa0mi)' '46.5\\xa0km (28.9\\xa0mi)'\n",
            " '200.88\\xa0km (124.82\\xa0mi)' '40.2\\xa0km (25.0\\xa0mi)'\n",
            " '41.2\\xa0km (25.6\\xa0mi)' '103.1\\xa0km (64.1\\xa0mi)' '13 km (8.1 mi)'\n",
            " '85\\xa0km (53\\xa0mi)' '27.1\\xa0km (16.8\\xa0mi)' '39.3\\xa0km (24.4\\xa0mi)'\n",
            " '34.6\\xa0km (21.5\\xa0mi)' '37.2\\xa0km (23.1\\xa0mi)'\n",
            " '16.9\\xa0km (10.5\\xa0mi)' '41.3\\xa0km (25.7\\xa0mi)'\n",
            " '44.2\\xa0km (27.5\\xa0mi)' '76\\xa0km (47\\xa0mi)' '80.1\\xa0km (49.8\\xa0mi)'\n",
            " '16.8\\xa0km (10.4\\xa0mi)' '461.5\\xa0km (286.8\\xa0mi)'\n",
            " '21.82\\xa0km (13.56\\xa0mi)' '15.9\\xa0km (9.9\\xa0mi)'\n",
            " '124.8\\xa0km (77.5\\xa0mi)' '11.6\\xa0km (7.2\\xa0mi)'\n",
            " '12.7\\xa0km (7.9\\xa0mi)' '230.2\\xa0km (143.0\\xa0mi)'\n",
            " '128.3\\xa0km (79.7\\xa0mi)' '45.1\\xa0km (28.0\\xa0mi)'\n",
            " '293.9\\xa0km (182.6\\xa0mi)' '108\\xa0km (67\\xa0mi)'\n",
            " '5.9\\xa0km (3.7\\xa0mi)' '42.7\\xa0km (26.5\\xa0mi)'\n",
            " '146.2\\xa0km (90.8\\xa0mi)' '16.7\\xa0km (10.4\\xa0mi)'\n",
            " '53.1\\xa0km (33.0\\xa0mi)' '68.2\\xa0km (42.4\\xa0mi)' '71\\xa0km (44\\xa0mi)'\n",
            " '13.9\\xa0km (8.6\\xa0mi)' '67.4\\xa0km (41.9\\xa0mi)'\n",
            " '38.9\\xa0km (24.2\\xa0mi)' '199.2\\xa0km (123.8\\xa0mi)'\n",
            " '20\\xa0km (12\\xa0mi)' '7.8\\xa0km (4.8\\xa0mi)' '38.7\\xa0km (24.0\\xa0mi)'\n",
            " '67.7\\xa0km (42.1\\xa0mi)' '89.3\\xa0km (55.5\\xa0mi)'\n",
            " '10.4\\xa0km (6.5\\xa0mi)' '402\\xa0km (250\\xa0mi)' '34\\xa0km (21\\xa0mi)'\n",
            " '76.6\\xa0km (47.6\\xa0mi)' '24.9\\xa0km (15.5\\xa0mi)' '61\\xa0km (38\\xa0mi)'\n",
            " '165.4\\xa0km (102.8\\xa0mi)' '31\\xa0km (19\\xa0mi)'\n",
            " '28.0\\xa0km (17.4\\xa0mi)' '39.3\\xa0km (24.4\\xa0mi)'\n",
            " '399\\xa0km (248\\xa0mi)' '22.5\\xa0km (14.0\\xa0mi)'\n",
            " '22.2\\xa0km (13.8\\xa0mi)' '59.1\\xa0km (36.7\\xa0mi)'\n",
            " '22.9\\xa0km (14.2\\xa0mi)' '191.5\\xa0km (119.0\\xa0mi)'\n",
            " '17.2\\xa0km (10.7\\xa0mi)' '206\\xa0km (128\\xa0mi)'\n",
            " '59.1\\xa0km (36.7\\xa0mi)' '67.2\\xa0km (41.8\\xa0mi)'\n",
            " '13.1\\xa0km (8.1\\xa0mi)']\n",
            "[ 19  78  10  13  98  27   9  33  59  19  27  20  22  28  41  19  89  44\n",
            "  68  75  53 119 370  59 135  43 284 238  99  15  61  74 254  55 254  62\n",
            " 133  43  99  40  32 103  20  33  94 191  93  28 116 146 403  28  85 303\n",
            "  60 154  23  15 181  21  18 254  80  66 173  51 143  27  58  39  33  15\n",
            "  74  30  60  40  29 308  28  37  23 175  93  96  49  66  48  31  63  42\n",
            " 230  11  56  11   9  24  40  21  40  36  21  10  13  20  35  22   2  18\n",
            " 123  17  10   8 112  27  73  23  36  22  28  31  87 100  46  29  99 142\n",
            "   8  40   6  11  17 108  88  22  20  56 279  86  16 129  46 163  38  39\n",
            "  71   5 101  26  31  26  33  13  38  50  37  56  11 289  15  14  72  10\n",
            "   9 134 132  42 242 100  14  37 119  18  22  60  53  13  57  39 128  17\n",
            "   6  30  52  53  15 272  45  38  14  51 145  18  16  23 424  21  13  72\n",
            "  13  47  16  98  48  49  12]\n"
          ]
        },
        {
          "output_type": "display_data",
          "data": {
            "text/plain": [
              "<Figure size 640x480 with 1 Axes>"
            ],
            "image/png": "[encoded data removed]"
          },
          "metadata": {}
        }
      ]
    },
    {
      "cell_type": "code",
      "source": [
        "import pandas as pd\n",
        "df=pd.read_csv('/content/MARKS22.csv')\n",
        "a=df.groupby('Name')['RollNo'].count()==2\n",
        "b=df.groupby('Name')['RollNo'].head()\n",
        "df.RollNo=df.RollNo.astype('int64')\n",
        "d=df.aggregate(['sum','min','max'])\n",
        "def student(a,b,d):\n",
        "  print('stud:',a,b,d)\n",
        "student(a,b,d)"
      ],
      "metadata": {
        "colab": {
          "base_uri": "https://localhost:8080/"
        },
        "id": "4I1SlmSujlDe",
        "outputId": "d8402e16-0419-4614-df81-b6a535fe3bf5"
      },
      "execution_count": null,
      "outputs": [
        {
          "output_type": "stream",
          "name": "stdout",
          "text": [
            "stud: Name\n",
            "AARTI       False\n",
            "ADITYA      False\n",
            "ANUSHKA     False\n",
            "DIVYA       False\n",
            "ISHA        False\n",
            "JANU        False\n",
            "MAYURI      False\n",
            "PRATAP      False\n",
            "ROHIT       False\n",
            "SAKSHI      False\n",
            "SAMARTH     False\n",
            "SHRAVANI    False\n",
            "SOHAM       False\n",
            "SRUSHTI     False\n",
            "SUNITA      False\n",
            "SUVANA      False\n",
            "VAIBHAVI    False\n",
            "VAMIKA      False\n",
            "VIKAS       False\n",
            "VIRAT       False\n",
            "Name: RollNo, dtype: bool 0     11\n",
            "1     12\n",
            "2      1\n",
            "3      3\n",
            "4     15\n",
            "5     16\n",
            "6     44\n",
            "7     55\n",
            "8     76\n",
            "9     66\n",
            "10    34\n",
            "11    35\n",
            "12    21\n",
            "13    67\n",
            "14    68\n",
            "15    87\n",
            "16    98\n",
            "17    79\n",
            "18    29\n",
            "19    93\n",
            "Name: RollNo, dtype: int64      sr no                                               Name  RollNo  EDS  \\\n",
            "sum    210  SRUSHTIDIVYAISHASAKSHIANUSHKAADITYAVAIBHAVIVAM...     910  972   \n",
            "min      1                                              AARTI       1   12   \n",
            "max     20                                              VIRAT      98   87   \n",
            "\n",
            "     SON   SIC  \n",
            "sum  999  1109  \n",
            "min   22    22  \n",
            "max   87    98  \n"
          ]
        }
      ]
    },
    {
      "cell_type": "code",
      "source": [
        "import matplotlib.pyplot as plt\n",
        "import numpy as np\n",
        "xpoints = np.array([0,6])\n",
        "ypoints = np.array([0,250])\n",
        "plt.plot(xpoints,ypoints,'-.')\n",
        "plt.fill_between (xpoints,ypoints,color='red',alpha = 0.8)\n",
        "plt.show()\n",
        "\n"
      ],
      "metadata": {
        "colab": {
          "base_uri": "https://localhost:8080/",
          "height": 430
        },
        "id": "s8WsNXHWoAa8",
        "outputId": "e32cd59d-1e04-4d0e-9544-422a3f511394"
      },
      "execution_count": null,
      "outputs": [
        {
          "output_type": "display_data",
          "data": {
            "text/plain": [
              "<Figure size 640x480 with 1 Axes>"
            ],
            "image/png": "[encoded data removed]"
          },
          "metadata": {}
        }
      ]
    },
    {
      "cell_type": "code",
      "source": [
        "import pandas as pd\n",
        "df=pd.read_csv(r'/content/archive (3).zip')\n",
        "b=pd.DataFrame(df)\n",
        "print(b)"
      ],
      "metadata": {
        "colab": {
          "base_uri": "https://localhost:8080/"
        },
        "id": "rifBYGcep8LJ",
        "outputId": "eaed8515-dff8-41f0-b488-9b3f509f6900"
      },
      "execution_count": null,
      "outputs": [
        {
          "output_type": "stream",
          "name": "stdout",
          "text": [
            "    CCA3              Name     2022     2020     2015     2010     2000  \\\n",
            "0     CN             China  1425887  1424930  1393715  1348191  1264099   \n",
            "1     IN             India  1417173  1396387  1322867  1240614  1059634   \n",
            "2     US     United States   338290   335942   324608   311183   282399   \n",
            "3     ID         Indonesia   275501   271858   259092   244016   214072   \n",
            "4     PK          Pakistan   235825   227197   210969   194454   154370   \n",
            "..   ...               ...      ...      ...      ...      ...      ...   \n",
            "229   MS        Montserrat        4        5        5        5        5   \n",
            "230   FK  Falkland Islands        4        4        3        3        3   \n",
            "231   NU              Niue        2        2        2        2        2   \n",
            "232   TK           Tokelau        2        2        1        1        2   \n",
            "233   VA      Vatican City        1        1        1        1        1   \n",
            "\n",
            "        1990    1980    1970  Area (km²)  Density (per km²)  GrowthRate  \\\n",
            "0    1153704  982372  822534     9706961           146.8933        1.00   \n",
            "1     870452  696828  557501     3287590           431.0675        1.01   \n",
            "2     248084  223140  200328     9372610            36.0935        1.00   \n",
            "3     182160  148177  115228     1904569           144.6529        1.01   \n",
            "4     115414   80624   59291      881912           267.4018        1.02   \n",
            "..       ...     ...     ...         ...                ...         ...   \n",
            "229       11      11      11         102            43.0392        0.99   \n",
            "230        2       2       2       12173             0.3105        1.00   \n",
            "231        3       4       5         260             7.4385        1.00   \n",
            "232        2       2       2          12           155.9167        1.01   \n",
            "233        1       1       1           1           510.0000        1.00   \n",
            "\n",
            "    World Population Percentage  Rank  \n",
            "0                        17.88%     1  \n",
            "1                        17.77%     2  \n",
            "2                         4.24%     3  \n",
            "3                         3.45%     4  \n",
            "4                         2.96%     5  \n",
            "..                          ...   ...  \n",
            "229                       0.00%   230  \n",
            "230                       0.00%   231  \n",
            "231                       0.00%   232  \n",
            "232                       0.00%   233  \n",
            "233                       0.00%   234  \n",
            "\n",
            "[234 rows x 15 columns]\n"
          ]
        }
      ]
    },
    {
      "cell_type": "code",
      "source": [
        "g=df['2022']\n",
        "p=df['2020']\n",
        "i=df['2015']\n",
        "j=df['2010']\n",
        "h=df['2000']\n",
        "k=df['1990']\n",
        "l=df['1980']\n",
        "print(i)\n",
        "print(j)\n",
        "print(g)\n",
        "print(p)\n",
        "print(h)\n",
        "print(k)\n",
        "print(l)\n"
      ],
      "metadata": {
        "colab": {
          "base_uri": "https://localhost:8080/"
        },
        "id": "N2U34_KIr9lm",
        "outputId": "5f3efbf3-e1cb-4ccb-eff8-10d5c053f18d"
      },
      "execution_count": null,
      "outputs": [
        {
          "output_type": "stream",
          "name": "stdout",
          "text": [
            "0      1393715\n",
            "1      1322867\n",
            "2       324608\n",
            "3       259092\n",
            "4       210969\n",
            "        ...   \n",
            "229          5\n",
            "230          3\n",
            "231          2\n",
            "232          1\n",
            "233          1\n",
            "Name: 2015, Length: 234, dtype: int64\n",
            "0      1348191\n",
            "1      1240614\n",
            "2       311183\n",
            "3       244016\n",
            "4       194454\n",
            "        ...   \n",
            "229          5\n",
            "230          3\n",
            "231          2\n",
            "232          1\n",
            "233          1\n",
            "Name: 2010, Length: 234, dtype: int64\n",
            "0      1425887\n",
            "1      1417173\n",
            "2       338290\n",
            "3       275501\n",
            "4       235825\n",
            "        ...   \n",
            "229          4\n",
            "230          4\n",
            "231          2\n",
            "232          2\n",
            "233          1\n",
            "Name: 2022, Length: 234, dtype: int64\n",
            "0      1424930\n",
            "1      1396387\n",
            "2       335942\n",
            "3       271858\n",
            "4       227197\n",
            "        ...   \n",
            "229          5\n",
            "230          4\n",
            "231          2\n",
            "232          2\n",
            "233          1\n",
            "Name: 2020, Length: 234, dtype: int64\n",
            "0      1264099\n",
            "1      1059634\n",
            "2       282399\n",
            "3       214072\n",
            "4       154370\n",
            "        ...   \n",
            "229          5\n",
            "230          3\n",
            "231          2\n",
            "232          2\n",
            "233          1\n",
            "Name: 2000, Length: 234, dtype: int64\n",
            "0      1153704\n",
            "1       870452\n",
            "2       248084\n",
            "3       182160\n",
            "4       115414\n",
            "        ...   \n",
            "229         11\n",
            "230          2\n",
            "231          3\n",
            "232          2\n",
            "233          1\n",
            "Name: 1990, Length: 234, dtype: int64\n",
            "0      982372\n",
            "1      696828\n",
            "2      223140\n",
            "3      148177\n",
            "4       80624\n",
            "        ...  \n",
            "229        11\n",
            "230         2\n",
            "231         4\n",
            "232         2\n",
            "233         1\n",
            "Name: 1980, Length: 234, dtype: int64\n"
          ]
        }
      ]
    },
    {
      "cell_type": "code",
      "source": [
        "import matplotlib.pyplot as plt\n",
        "xpoints=p\n",
        "ypoints=g\n",
        "plt.scatter(xpoints,ypoints)\n",
        "plt.show"
      ],
      "metadata": {
        "colab": {
          "base_uri": "https://localhost:8080/",
          "height": 480
        },
        "id": "hkHhTUqQuvCI",
        "outputId": "c1d08b0c-4723-44a2-bc66-9c7535d77be4"
      },
      "execution_count": null,
      "outputs": [
        {
          "output_type": "execute_result",
          "data": {
            "text/plain": [
              "<function matplotlib.pyplot.show(close=None, block=None)>"
            ]
          },
          "metadata": {},
          "execution_count": 15
        },
        {
          "output_type": "display_data",
          "data": {
            "text/plain": [
              "<Figure size 640x480 with 1 Axes>"
            ],
            "image/png": "[encoded data removed]"
          },
          "metadata": {}
        }
      ]
    },
    {
      "cell_type": "code",
      "source": [
        "plt.bar(xpoints,ypoints)"
      ],
      "metadata": {
        "colab": {
          "base_uri": "https://localhost:8080/",
          "height": 480
        },
        "id": "ga1fYvf0vJxt",
        "outputId": "1d6479ce-182f-4c6b-b8f6-d23bb371b039"
      },
      "execution_count": null,
      "outputs": [
        {
          "output_type": "execute_result",
          "data": {
            "text/plain": [
              "<BarContainer object of 234 artists>"
            ]
          },
          "metadata": {},
          "execution_count": 16
        },
        {
          "output_type": "display_data",
          "data": {
            "text/plain": [
              "<Figure size 640x480 with 1 Axes>"
            ],
            "image/png": "[encoded data removed]"
          },
          "metadata": {}
        }
      ]
    },
    {
      "cell_type": "code",
      "source": [
        "plt.barh(xpoints,ypoints)"
      ],
      "metadata": {
        "colab": {
          "base_uri": "https://localhost:8080/",
          "height": 480
        },
        "id": "1_Pq3Hg9vUL0",
        "outputId": "9ea89b54-2b07-43b7-b882-056b79ced7bd"
      },
      "execution_count": null,
      "outputs": [
        {
          "output_type": "execute_result",
          "data": {
            "text/plain": [
              "<BarContainer object of 234 artists>"
            ]
          },
          "metadata": {},
          "execution_count": 17
        },
        {
          "output_type": "display_data",
          "data": {
            "text/plain": [
              "<Figure size 640x480 with 1 Axes>"
            ],
            "image/png": "[encoded data removed]"
          },
          "metadata": {}
        }
      ]
    },
    {
      "cell_type": "code",
      "source": [
        "plt.hist(ypoints)"
      ],
      "metadata": {
        "colab": {
          "base_uri": "https://localhost:8080/",
          "height": 535
        },
        "id": "ylG-VBCfvZ67",
        "outputId": "d93443c5-25de-48b6-a6c6-c766a7a33626"
      },
      "execution_count": null,
      "outputs": [
        {
          "output_type": "execute_result",
          "data": {
            "text/plain": [
              "(array([225.,   6.,   1.,   0.,   0.,   0.,   0.,   0.,   0.,   2.]),\n",
              " array([1.0000000e+00, 1.4258960e+05, 2.8517820e+05, 4.2776680e+05,\n",
              "        5.7035540e+05, 7.1294400e+05, 8.5553260e+05, 9.9812120e+05,\n",
              "        1.1407098e+06, 1.2832984e+06, 1.4258870e+06]),\n",
              " <BarContainer object of 10 artists>)"
            ]
          },
          "metadata": {},
          "execution_count": 18
        },
        {
          "output_type": "display_data",
          "data": {
            "text/plain": [
              "<Figure size 640x480 with 1 Axes>"
            ],
            "image/png": "[encoded data removed]"
          },
          "metadata": {}
        }
      ]
    },
    {
      "cell_type": "code",
      "source": [
        "import pandas as pd\n",
        "df=pd.read_csv('/content/World Population 11.csv')\n",
        "data=df.values.tolist()\n",
        "c=print(data[2:5])\n",
        "df.Rank=df.2000 .astype('int64')\n",
        "d=df['2000'][df.Rank>70000]\n",
        "def population(c):\n",
        "    x=df.groupby('Rank')['2000  '].count()==2\n",
        "    y=df.groupby('Rank')['2000 '].count()\n",
        "    print(x)\n",
        "plt.pie(xpoints)\n"
      ],
      "metadata": {
        "colab": {
          "base_uri": "https://localhost:8080/",
          "height": 130
        },
        "id": "sajHji79xmaR",
        "outputId": "5b042fc4-6a06-49c4-f7ae-f4992d114db4"
      },
      "execution_count": null,
      "outputs": [
        {
          "output_type": "error",
          "ename": "SyntaxError",
          "evalue": "ignored",
          "traceback": [
            "\u001b[0;36m  File \u001b[0;32m\"<ipython-input-25-8fe9e9178617>\"\u001b[0;36m, line \u001b[0;32m5\u001b[0m\n\u001b[0;31m    df.Rank=df.2000 .astype('int64')\u001b[0m\n\u001b[0m              ^\u001b[0m\n\u001b[0;31mSyntaxError\u001b[0m\u001b[0;31m:\u001b[0m invalid syntax\n"
          ]
        }
      ]
    },
    {
      "cell_type": "code",
      "source": [
        "import csv\n",
        "import matplotlib.pyplot as plt\n",
        "with open('/content/grainsales (1) (1).csv', 'r') as csvfile:\n",
        "    reader = csv.reader(csvfile)\n",
        "    data = list(reader)\n",
        "def fun(i,j):\n",
        "  for row in data:\n",
        "    print(row)\n",
        "i = 0\n",
        "while i < len(data):\n",
        "    print(data[i])\n",
        "    i += 1\n",
        "groups = []\n",
        "for i in range(10):\n",
        "    group = []\n",
        "    for j in range(len(data)):\n",
        "        if i == j%5:\n",
        "            group.append(data[j])\n",
        "    groups.append(group)\n",
        "for group in groups:\n",
        "    print(group)\n",
        "for i in range(10):\n",
        "    plt.plot([x[0] for x in groups[i]], [x[1] for x in groups[i]])\n",
        "    plt.title(\"Group {i}\")\n",
        "    plt.show()\n",
        "fun(i,j)"
      ],
      "metadata": {
        "colab": {
          "base_uri": "https://localhost:8080/",
          "height": 1000
        },
        "id": "xg-n7ZuEeVA5",
        "outputId": "d46d43b3-c947-486f-8c35-8d1469e1b93e"
      },
      "execution_count": null,
      "outputs": [
        {
          "output_type": "stream",
          "name": "stdout",
          "text": [
            "['GrainName', 'State', 'City', 'Months', 'Year', 'Sales']\n",
            "['Ragi', 'Maharashtra', 'Nagpur', 'JAN', '2023', '1000000']\n",
            "['Bajra', 'Panjab', 'Amritsar', 'FEB', '2023', '1500000']\n",
            "['Ragi', 'Maharashtra', 'Nagpur', 'JAN', '2023', '1000000']\n",
            "['Bajra', 'Panjab', 'Amritsar', 'FEB', '2023', '1500000']\n",
            "['Ragi', 'Maharashtra', 'Nagpur', 'JAN', '2023', '1000000']\n",
            "['Bajra', 'Panjab', 'Amritsar', 'FEB', '2023', '1500000']\n",
            "['Oats', 'Hariyana', 'Gurugram', 'MARCH', '2023', '2000000']\n",
            "['Sattu ', 'Gujarat', 'Surat', 'APRIL', '2023', '2500000']\n",
            "['Sooji', 'Tamil Nadu', 'Madurai', 'MAY', '2023', '3000000']\n",
            "['Brown rice ', 'Telangana', 'Hyderabad', 'JUNE', '2023', '3500000']\n",
            "['Wheat', 'West Bengol', 'Asansole', 'JULY', '2023', '4000000']\n",
            "['Corn', 'UP', 'Kanpur', 'AUG', '2023', '4500000']\n",
            "['Ragi', 'Maharashtra', 'Nagpur', 'JAN', '2023', '1000000']\n",
            "['Bajra', 'Panjab', 'Amritsar', 'FEB', '2023', '1500000']\n",
            "['Oats', 'Hariyana', 'Gurugram', 'MARCH', '2023', '2000000']\n",
            "['Sattu ', 'Gujarat', 'Surat', 'APRIL', '2023', '2500000']\n",
            "['Sooji', 'Tamil Nadu', 'Madurai', 'MAY', '2023', '3000000']\n",
            "['Brown rice ', 'Telangana', 'Hyderabad', 'JUNE', '2023', '3500000']\n",
            "['Wheat', 'West Bengol', 'Asansole', 'JULY', '2023', '4000000']\n",
            "['Corn', 'UP', 'Kanpur', 'AUG', '2023', '4500000']\n",
            "['Sooji', 'Tamil Nadu', 'Madurai', 'MAY', '2023', '3000000']\n",
            "['Brown rice ', 'Telangana', 'Hyderabad', 'JUNE', '2023', '3500000']\n",
            "['Wheat', 'West Bengol', 'Asansole', 'JULY', '2023', '4000000']\n",
            "['Corn', 'UP', 'Kanpur', 'AUG', '2023', '4500000']\n",
            "['Ragi', 'Maharashtra', 'Nagpur', 'JAN', '2023', '1000000']\n",
            "['Brown rice ', 'Telangana', 'Hyderabad', 'JUNE', '2023', '3500000']\n",
            "['Wheat', 'West Bengol', 'Asansole', 'JULY', '2023', '4000000']\n",
            "[['GrainName', 'State', 'City', 'Months', 'Year', 'Sales'], ['Ragi', 'Maharashtra', 'Nagpur', 'JAN', '2023', '1000000'], ['Brown rice ', 'Telangana', 'Hyderabad', 'JUNE', '2023', '3500000'], ['Oats', 'Hariyana', 'Gurugram', 'MARCH', '2023', '2000000'], ['Corn', 'UP', 'Kanpur', 'AUG', '2023', '4500000'], ['Ragi', 'Maharashtra', 'Nagpur', 'JAN', '2023', '1000000']]\n",
            "[['Ragi', 'Maharashtra', 'Nagpur', 'JAN', '2023', '1000000'], ['Bajra', 'Panjab', 'Amritsar', 'FEB', '2023', '1500000'], ['Wheat', 'West Bengol', 'Asansole', 'JULY', '2023', '4000000'], ['Sattu ', 'Gujarat', 'Surat', 'APRIL', '2023', '2500000'], ['Sooji', 'Tamil Nadu', 'Madurai', 'MAY', '2023', '3000000'], ['Brown rice ', 'Telangana', 'Hyderabad', 'JUNE', '2023', '3500000']]\n",
            "[['Bajra', 'Panjab', 'Amritsar', 'FEB', '2023', '1500000'], ['Oats', 'Hariyana', 'Gurugram', 'MARCH', '2023', '2000000'], ['Corn', 'UP', 'Kanpur', 'AUG', '2023', '4500000'], ['Sooji', 'Tamil Nadu', 'Madurai', 'MAY', '2023', '3000000'], ['Brown rice ', 'Telangana', 'Hyderabad', 'JUNE', '2023', '3500000'], ['Wheat', 'West Bengol', 'Asansole', 'JULY', '2023', '4000000']]\n",
            "[['Ragi', 'Maharashtra', 'Nagpur', 'JAN', '2023', '1000000'], ['Sattu ', 'Gujarat', 'Surat', 'APRIL', '2023', '2500000'], ['Ragi', 'Maharashtra', 'Nagpur', 'JAN', '2023', '1000000'], ['Brown rice ', 'Telangana', 'Hyderabad', 'JUNE', '2023', '3500000'], ['Wheat', 'West Bengol', 'Asansole', 'JULY', '2023', '4000000']]\n",
            "[['Bajra', 'Panjab', 'Amritsar', 'FEB', '2023', '1500000'], ['Sooji', 'Tamil Nadu', 'Madurai', 'MAY', '2023', '3000000'], ['Bajra', 'Panjab', 'Amritsar', 'FEB', '2023', '1500000'], ['Wheat', 'West Bengol', 'Asansole', 'JULY', '2023', '4000000'], ['Corn', 'UP', 'Kanpur', 'AUG', '2023', '4500000']]\n",
            "[]\n",
            "[]\n",
            "[]\n",
            "[]\n",
            "[]\n"
          ]
        },
        {
          "output_type": "display_data",
          "data": {
            "text/plain": [
              "<Figure size 640x480 with 1 Axes>"
            ],
            "image/png": "[encoded data removed]"
          },
          "metadata": {}
        },
        {
          "output_type": "display_data",
          "data": {
            "text/plain": [
              "<Figure size 640x480 with 1 Axes>"
            ],
            "image/png": "[encoded data removed]"
          },
          "metadata": {}
        },
        {
          "output_type": "display_data",
          "data": {
            "text/plain": [
              "<Figure size 640x480 with 1 Axes>"
            ],
            "image/png": "[encoded data removed]"
          },
          "metadata": {}
        },
        {
          "output_type": "display_data",
          "data": {
            "text/plain": [
              "<Figure size 640x480 with 1 Axes>"
            ],
            "image/png": "[encoded data removed]"
          },
          "metadata": {}
        },
        {
          "output_type": "display_data",
          "data": {
            "text/plain": [
              "<Figure size 640x480 with 1 Axes>"
            ],
            "image/png": "[encoded data removed]"
          },
          "metadata": {}
        },
        {
          "output_type": "display_data",
          "data": {
            "text/plain": [
              "<Figure size 640x480 with 1 Axes>"
            ],
            "image/png": "[encoded data removed]"
          },
          "metadata": {}
        },
        {
          "output_type": "display_data",
          "data": {
            "text/plain": [
              "<Figure size 640x480 with 1 Axes>"
            ],
            "image/png": "[encoded data removed]"
          },
          "metadata": {}
        },
        {
          "output_type": "display_data",
          "data": {
            "text/plain": [
              "<Figure size 640x480 with 1 Axes>"
            ],
            "image/png": "[encoded data removed]"
          },
          "metadata": {}
        },
        {
          "output_type": "display_data",
          "data": {
            "text/plain": [
              "<Figure size 640x480 with 1 Axes>"
            ],
            "image/png": "[encoded data removed]"
          },
          "metadata": {}
        },
        {
          "output_type": "display_data",
          "data": {
            "text/plain": [
              "<Figure size 640x480 with 1 Axes>"
            ],
            "image/png": "[encoded data removed]"
          },
          "metadata": {}
        },
        {
          "output_type": "stream",
          "name": "stdout",
          "text": [
            "['GrainName', 'State', 'City', 'Months', 'Year', 'Sales']\n",
            "['Ragi', 'Maharashtra', 'Nagpur', 'JAN', '2023', '1000000']\n",
            "['Bajra', 'Panjab', 'Amritsar', 'FEB', '2023', '1500000']\n",
            "['Ragi', 'Maharashtra', 'Nagpur', 'JAN', '2023', '1000000']\n",
            "['Bajra', 'Panjab', 'Amritsar', 'FEB', '2023', '1500000']\n",
            "['Ragi', 'Maharashtra', 'Nagpur', 'JAN', '2023', '1000000']\n",
            "['Bajra', 'Panjab', 'Amritsar', 'FEB', '2023', '1500000']\n",
            "['Oats', 'Hariyana', 'Gurugram', 'MARCH', '2023', '2000000']\n",
            "['Sattu ', 'Gujarat', 'Surat', 'APRIL', '2023', '2500000']\n",
            "['Sooji', 'Tamil Nadu', 'Madurai', 'MAY', '2023', '3000000']\n",
            "['Brown rice ', 'Telangana', 'Hyderabad', 'JUNE', '2023', '3500000']\n",
            "['Wheat', 'West Bengol', 'Asansole', 'JULY', '2023', '4000000']\n",
            "['Corn', 'UP', 'Kanpur', 'AUG', '2023', '4500000']\n",
            "['Ragi', 'Maharashtra', 'Nagpur', 'JAN', '2023', '1000000']\n",
            "['Bajra', 'Panjab', 'Amritsar', 'FEB', '2023', '1500000']\n",
            "['Oats', 'Hariyana', 'Gurugram', 'MARCH', '2023', '2000000']\n",
            "['Sattu ', 'Gujarat', 'Surat', 'APRIL', '2023', '2500000']\n",
            "['Sooji', 'Tamil Nadu', 'Madurai', 'MAY', '2023', '3000000']\n",
            "['Brown rice ', 'Telangana', 'Hyderabad', 'JUNE', '2023', '3500000']\n",
            "['Wheat', 'West Bengol', 'Asansole', 'JULY', '2023', '4000000']\n",
            "['Corn', 'UP', 'Kanpur', 'AUG', '2023', '4500000']\n",
            "['Sooji', 'Tamil Nadu', 'Madurai', 'MAY', '2023', '3000000']\n",
            "['Brown rice ', 'Telangana', 'Hyderabad', 'JUNE', '2023', '3500000']\n",
            "['Wheat', 'West Bengol', 'Asansole', 'JULY', '2023', '4000000']\n",
            "['Corn', 'UP', 'Kanpur', 'AUG', '2023', '4500000']\n",
            "['Ragi', 'Maharashtra', 'Nagpur', 'JAN', '2023', '1000000']\n",
            "['Brown rice ', 'Telangana', 'Hyderabad', 'JUNE', '2023', '3500000']\n",
            "['Wheat', 'West Bengol', 'Asansole', 'JULY', '2023', '4000000']\n"
          ]
        }
      ]
    },
    {
      "cell_type": "code",
      "source": [],
      "metadata": {
        "id": "6TYQpst0r3e9"
      },
      "execution_count": null,
      "outputs": []
    },
    {
      "cell_type": "code",
      "source": [
        "import matplotlib.pyplot as plt\n",
        "from sklearn.neighbors import KNeighborsClassifier\n",
        "x=[4,5,10,4,3,11,14,8,10,12]\n",
        "y=[21,19,24,17,16,25,24,22,21,21]\n",
        "classes=[0,0,1,0,0 ,1,1,0,1,1]\n",
        "plt.scatter(x,y,c=classes)\n",
        "plt.show()\n",
        "data=list(zip(x,y))\n",
        "knn=KNeighborsClassifier(n_neighbors=1)\n",
        "knn.fit(data,classes)\n",
        "new_x=8\n",
        "new_y=21\n",
        "new_point=[(new_x,new_y)]\n",
        "prediction=knn.predict(new_point)\n",
        "plt.scatter(x+[new_x], y+[new_y],c=classes+[prediction[0]])\n",
        "plt.text(x=new_x-1.7,y=new_y-0.7,s=f\"new point,class: {prediction[0]}\")\n",
        "plt.show()\n"
      ],
      "metadata": {
        "colab": {
          "base_uri": "https://localhost:8080/",
          "height": 843
        },
        "id": "GXt2lFQ1_4_E",
        "outputId": "1bb05b3f-ad9e-4ce9-d4c7-dd6ab6c07755"
      },
      "execution_count": null,
      "outputs": [
        {
          "output_type": "display_data",
          "data": {
            "text/plain": [
              "<Figure size 640x480 with 1 Axes>"
            ],
            "image/png": "[encoded data removed]"
          },
          "metadata": {}
        },
        {
          "output_type": "display_data",
          "data": {
            "text/plain": [
              "<Figure size 640x480 with 1 Axes>"
            ],
            "image/png": "[encoded data removed]"
          },
          "metadata": {}
        }
      ]
    },
    {
      "cell_type": "code",
      "source": [
        "import matplotlib.pyplot as plt\n",
        "from sklearn.cluster import KMeans\n",
        "x=[4,5,10,4,3,11,14,8,10,12]\n",
        "y=[21,19,24,17,16,25,24,22,21,21]\n",
        "plt.scatter(x,y)\n",
        "plt.show()\n",
        "data=list(zip(x,y))\n",
        "inertia=[]\n",
        "for i in range(1,11):\n",
        "  kmeans=KMeans(n_clusters=i)\n",
        "  kmeans.fit(data)\n",
        "  inertia.append(kmeans.inertia_)\n",
        "plt.plot(range(1,11),inertia,marker='o')\n",
        "plt.xlabel('number of clusters')\n",
        "plt.ylabel('inertia')\n",
        "plt.show()\n",
        "kmeans=KMeans(n_clusters=5)\n",
        "kmeans.fit(data)\n",
        "plt.scatter(x,y,c=kmeans.labels_)\n",
        "plt.show()\n",
        "\n",
        "\n"
      ],
      "metadata": {
        "colab": {
          "base_uri": "https://localhost:8080/",
          "height": 1000
        },
        "id": "AHCuAVs3HoPo",
        "outputId": "d2914419-7b9b-47e2-8707-4750c9e591e4"
      },
      "execution_count": null,
      "outputs": [
        {
          "output_type": "display_data",
          "data": {
            "text/plain": [
              "<Figure size 640x480 with 1 Axes>"
            ],
            "image/png": "[encoded data removed]"
          },
          "metadata": {}
        },
        {
          "output_type": "stream",
          "name": "stderr",
          "text": [
            "/usr/local/lib/python3.10/dist-packages/sklearn/cluster/_kmeans.py:870: FutureWarning: The default value of `n_init` will change from 10 to 'auto' in 1.4. Set the value of `n_init` explicitly to suppress the warning\n",
            "  warnings.warn(\n",
            "/usr/local/lib/python3.10/dist-packages/sklearn/cluster/_kmeans.py:870: FutureWarning: The default value of `n_init` will change from 10 to 'auto' in 1.4. Set the value of `n_init` explicitly to suppress the warning\n",
            "  warnings.warn(\n",
            "/usr/local/lib/python3.10/dist-packages/sklearn/cluster/_kmeans.py:870: FutureWarning: The default value of `n_init` will change from 10 to 'auto' in 1.4. Set the value of `n_init` explicitly to suppress the warning\n",
            "  warnings.warn(\n",
            "/usr/local/lib/python3.10/dist-packages/sklearn/cluster/_kmeans.py:870: FutureWarning: The default value of `n_init` will change from 10 to 'auto' in 1.4. Set the value of `n_init` explicitly to suppress the warning\n",
            "  warnings.warn(\n",
            "/usr/local/lib/python3.10/dist-packages/sklearn/cluster/_kmeans.py:870: FutureWarning: The default value of `n_init` will change from 10 to 'auto' in 1.4. Set the value of `n_init` explicitly to suppress the warning\n",
            "  warnings.warn(\n",
            "/usr/local/lib/python3.10/dist-packages/sklearn/cluster/_kmeans.py:870: FutureWarning: The default value of `n_init` will change from 10 to 'auto' in 1.4. Set the value of `n_init` explicitly to suppress the warning\n",
            "  warnings.warn(\n",
            "/usr/local/lib/python3.10/dist-packages/sklearn/cluster/_kmeans.py:870: FutureWarning: The default value of `n_init` will change from 10 to 'auto' in 1.4. Set the value of `n_init` explicitly to suppress the warning\n",
            "  warnings.warn(\n",
            "/usr/local/lib/python3.10/dist-packages/sklearn/cluster/_kmeans.py:870: FutureWarning: The default value of `n_init` will change from 10 to 'auto' in 1.4. Set the value of `n_init` explicitly to suppress the warning\n",
            "  warnings.warn(\n",
            "/usr/local/lib/python3.10/dist-packages/sklearn/cluster/_kmeans.py:870: FutureWarning: The default value of `n_init` will change from 10 to 'auto' in 1.4. Set the value of `n_init` explicitly to suppress the warning\n",
            "  warnings.warn(\n",
            "/usr/local/lib/python3.10/dist-packages/sklearn/cluster/_kmeans.py:870: FutureWarning: The default value of `n_init` will change from 10 to 'auto' in 1.4. Set the value of `n_init` explicitly to suppress the warning\n",
            "  warnings.warn(\n"
          ]
        },
        {
          "output_type": "display_data",
          "data": {
            "text/plain": [
              "<Figure size 640x480 with 1 Axes>"
            ],
            "image/png": "[encoded data removed]"
          },
          "metadata": {}
        },
        {
          "output_type": "stream",
          "name": "stderr",
          "text": [
            "/usr/local/lib/python3.10/dist-packages/sklearn/cluster/_kmeans.py:870: FutureWarning: The default value of `n_init` will change from 10 to 'auto' in 1.4. Set the value of `n_init` explicitly to suppress the warning\n",
            "  warnings.warn(\n"
          ]
        },
        {
          "output_type": "display_data",
          "data": {
            "text/plain": [
              "<Figure size 640x480 with 1 Axes>"
            ],
            "image/png": "[encoded data removed]"
          },
          "metadata": {}
        }
      ]
    },
    {
      "cell_type": "code",
      "source": [],
      "metadata": {
        "id": "x1vRYQA9KvR9"
      },
      "execution_count": null,
      "outputs": []
    }
  ]
}